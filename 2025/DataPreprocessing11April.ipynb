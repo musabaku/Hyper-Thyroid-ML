{
 "cells": [
  {
   "cell_type": "code",
   "execution_count": 1,
   "id": "245c66c4-2780-4297-9cd8-1d3d055cd3fa",
   "metadata": {},
   "outputs": [],
   "source": [
    "import pandas as pd\n",
    "import numpy as np\n",
    "\n",
    "df = pd.read_csv(r\"C:\\Users\\musab\\htOld\\2025\\code\\hyperThyroidv1Outputv2.csv\", encoding='latin-1')\n",
    "# df = pd.read_csv(\"thyroid.csv\")\n",
    "#df = df.loc[:, :\"ALP\"]\n"
   ]
  },
  {
   "cell_type": "code",
   "execution_count": 2,
   "id": "9245b438-1ec2-46a0-8914-3839bb0f4cd9",
   "metadata": {},
   "outputs": [
    {
     "name": "stdout",
     "output_type": "stream",
     "text": [
      "['aphp', 'nhph', 'secondary_hp', 'age', 'gender', 'height', 'weight', 'bmi', 'tobacco', 'magnesium', 'alp', 'albumin', 'serum_calcium', 'ionized_calcium', 'serum_creatinine', 'gfr', 'phosphorus', 'urinary_calcium_24h', 'urinary_creatinine_24h', 'total_protein', 'Triglycerides', 'ldl_cholesterol', 'total_cholesterol', 'ast', 'alt', 'ggt', 'bun', 'chlorine', 'serum_25_hydroxy_vitamin_d', 'pth', 'fracture_present', 'kidney_stones_present', 'l1_t_score', 'l2_t_score', 'l3_t_score', 'l4_t_score', 'l1_z_score', 'l2_z_score', 'l3_z_score', 'l4_z_score', 'femoral_neck_z_score', 'femoral_neck_t_score', 'radius_z_score', 'radius_t_score', 'l1_l4_t_score', 'femur_total_t_score', 'l1_l4_z_score', 'femur_total_z_score', 'abdominal_pain', 'fatigue', 'myalgia', 'constipation', 'insomnia', 'polydipsia', 'polyuria', 'muscle_weakness', 'headache', 'nausea', 'amnesia', 'gallstones', 'nephrolithiasis', 'corrected_calcium_by_albumin', 'serum_calcium_phosphorus_ratio', 'pf_index', 'alp_combined_with_cl_po4', 'parathyroid_scintigraphy', 'parathyroid_spect', 'neck_ultrasound', '4d_ct', '4d_mri', '99mtc_mibi', '99mtc_sestamibi', 'first_surgery_pathology_report', 'alp_final']\n"
     ]
    }
   ],
   "source": [
    "df.head()\n",
    "data_shape = df.shape\n",
    "print(list(df.columns))\n"
   ]
  },
  {
   "cell_type": "markdown",
   "id": "9ad8ee60-e73b-4e30-8a87-a1b1f9a33301",
   "metadata": {},
   "source": [
    "# Calculating pth_div_phosphorus Column"
   ]
  },
  {
   "cell_type": "code",
   "execution_count": 3,
   "id": "cdc8e1c6-3ba4-448d-b7d9-362488c7b5e8",
   "metadata": {},
   "outputs": [
    {
     "name": "stdout",
     "output_type": "stream",
     "text": [
      "   aphp  nhph  secondary_hp   age  gender  height  weight  bmi  tobacco  \\\n",
      "0   0.0   0.0           1.0   NaN    -1.0     NaN     NaN  NaN       -1   \n",
      "1   0.0   0.0           1.0   NaN    -1.0     NaN     NaN  NaN       -1   \n",
      "2   0.0   0.0           1.0  49.0     1.0     NaN     NaN  NaN       -1   \n",
      "3   0.0   0.0           1.0   NaN    -1.0     NaN     NaN  NaN       -1   \n",
      "4   0.0   0.0           1.0  34.0     1.0     NaN     NaN  NaN       -1   \n",
      "\n",
      "   magnesium  ...  parathyroid_scintigraphy  parathyroid_spect  \\\n",
      "0       1.80  ...                         0                NaN   \n",
      "1       1.80  ...                         0                NaN   \n",
      "2       1.50  ...                         0                NaN   \n",
      "3       1.80  ...                         0                NaN   \n",
      "4       1.81  ...                         0                NaN   \n",
      "\n",
      "   neck_ultrasound  4d_ct  4d_mri  99mtc_mibi  99mtc_sestamibi  \\\n",
      "0              NaN    NaN     NaN         NaN              NaN   \n",
      "1              NaN    NaN     NaN         NaN              NaN   \n",
      "2              NaN    NaN     NaN         NaN              NaN   \n",
      "3              NaN    NaN     NaN         NaN              NaN   \n",
      "4              NaN    NaN     NaN         NaN              NaN   \n",
      "\n",
      "   first_surgery_pathology_report  alp_final  pth_div_phosphorus  \n",
      "0                             NaN        NaN           23.566176  \n",
      "1                             NaN         68           23.418182  \n",
      "2                             NaN       48.5           23.490909  \n",
      "3                             NaN         85           23.478261  \n",
      "4                             NaN        NaN           23.429603  \n",
      "\n",
      "[5 rows x 75 columns]\n"
     ]
    }
   ],
   "source": [
    "import pandas as pd\n",
    "import numpy as np\n",
    "\n",
    "# Load the CSV file using the provided file path and encoding\n",
    "# Convert the 'phosphorus' and 'pth' columns to numeric, coercing non-numeric values to NaN\n",
    "df['phosphorus'] = pd.to_numeric(df['phosphorus'], errors='coerce')\n",
    "df['pth'] = pd.to_numeric(df['pth'], errors='coerce')\n",
    "\n",
    "# Compute the new column by dividing 'pth' by 'phosphorus'\n",
    "# If either 'pth' or 'phosphorus' is missing or equals zero, fill with 0\n",
    "df[\"pth_div_phosphorus\"] = np.where(\n",
    "    (df[\"phosphorus\"].isna() | (df[\"phosphorus\"] == 0)) | (df[\"pth\"].isna() | (df[\"pth\"] == 0)),\n",
    "    0,\n",
    "    df[\"pth\"] / df[\"phosphorus\"]\n",
    ")\n",
    "\n",
    "# Optionally, display the first few rows to verify the new column was added correctly\n",
    "print(df.head())\n"
   ]
  },
  {
   "cell_type": "markdown",
   "id": "929943c4-4364-4743-bc67-74f78f879fdd",
   "metadata": {},
   "source": [
    "# Computing ALP_vALUE COLUMN"
   ]
  },
  {
   "cell_type": "code",
   "execution_count": 4,
   "id": "91529c42-520c-4fc5-9034-313bba24dd87",
   "metadata": {},
   "outputs": [
    {
     "name": "stdout",
     "output_type": "stream",
     "text": [
      "    alp  alp_final  alp_value\n",
      "0  54.0        NaN      54.00\n",
      "1  54.0       68.0      61.00\n",
      "2  54.0       48.5      51.25\n",
      "3  54.0       85.0      69.50\n",
      "4  54.0        NaN      54.00\n"
     ]
    }
   ],
   "source": [
    "import pandas as pd\n",
    "import numpy as np\n",
    "\n",
    "# Load the CSV file using the provided file path and encoding\n",
    "\n",
    "# Convert the 'alp' and 'alp_final' columns to numeric, coercing errors (non-numeric/empty values) to NaN\n",
    "df['alp'] = pd.to_numeric(df['alp'], errors='coerce')\n",
    "df['alp_final'] = pd.to_numeric(df['alp_final'], errors='coerce')\n",
    "\n",
    "# Compute the new column 'alp_value'\n",
    "df['alp_value'] = df[['alp', 'alp_final']].mean(axis=1, skipna=True)\n",
    "\n",
    "# Replace NaN (which occurs if both values are missing) with 0\n",
    "df['alp_value'] = df['alp_value'].fillna(0)\n",
    "\n",
    "# Optionally, display the first few rows to verify the new column has been added correctly\n",
    "print(df[['alp', 'alp_final', 'alp_value']].head())\n"
   ]
  },
  {
   "cell_type": "markdown",
   "id": "658914b7-e607-4c86-8aa8-63e836b23ea9",
   "metadata": {},
   "source": [
    "# Calculating corrected_calcium_by_albumin_div_phosphorus Column"
   ]
  },
  {
   "cell_type": "code",
   "execution_count": 5,
   "id": "11a000fc-f3eb-499a-bd8d-c40001d657ed",
   "metadata": {},
   "outputs": [
    {
     "name": "stdout",
     "output_type": "stream",
     "text": [
      "   aphp  nhph  secondary_hp   age  gender  height  weight  bmi  tobacco  \\\n",
      "0   0.0   0.0           1.0   NaN    -1.0     NaN     NaN  NaN       -1   \n",
      "1   0.0   0.0           1.0   NaN    -1.0     NaN     NaN  NaN       -1   \n",
      "2   0.0   0.0           1.0  49.0     1.0     NaN     NaN  NaN       -1   \n",
      "3   0.0   0.0           1.0   NaN    -1.0     NaN     NaN  NaN       -1   \n",
      "4   0.0   0.0           1.0  34.0     1.0     NaN     NaN  NaN       -1   \n",
      "\n",
      "   magnesium  ...  neck_ultrasound  4d_ct  4d_mri  99mtc_mibi  \\\n",
      "0       1.80  ...              NaN    NaN     NaN         NaN   \n",
      "1       1.80  ...              NaN    NaN     NaN         NaN   \n",
      "2       1.50  ...              NaN    NaN     NaN         NaN   \n",
      "3       1.80  ...              NaN    NaN     NaN         NaN   \n",
      "4       1.81  ...              NaN    NaN     NaN         NaN   \n",
      "\n",
      "   99mtc_sestamibi  first_surgery_pathology_report  alp_final  \\\n",
      "0              NaN                             NaN        NaN   \n",
      "1              NaN                             NaN       68.0   \n",
      "2              NaN                             NaN       48.5   \n",
      "3              NaN                             NaN       85.0   \n",
      "4              NaN                             NaN        NaN   \n",
      "\n",
      "   pth_div_phosphorus  alp_value  corrected_calcium_by_albumin_div_phosphorus  \n",
      "0           23.566176      54.00                                     3.132353  \n",
      "1           23.418182      61.00                                     3.098182  \n",
      "2           23.490909      51.25                                     3.098182  \n",
      "3           23.478261      69.50                                     3.086957  \n",
      "4           23.429603      54.00                                     3.075812  \n",
      "\n",
      "[5 rows x 77 columns]\n"
     ]
    }
   ],
   "source": [
    "import pandas as pd\n",
    "import numpy as np\n",
    "\n",
    "# Load the CSV file using the provided file path and encoding\n",
    "# Convert the 'phosphorus' and 'pth' columns to numeric, coercing non-numeric values to NaN\n",
    "df['phosphorus'] = pd.to_numeric(df['phosphorus'], errors='coerce')\n",
    "df['corrected_calcium_by_albumin'] = pd.to_numeric(df['corrected_calcium_by_albumin'], errors='coerce')\n",
    "\n",
    "# Compute the new column by dividing 'pth' by 'phosphorus'\n",
    "# If either 'pth' or 'phosphorus' is missing or equals zero, fill with 0\n",
    "df[\"corrected_calcium_by_albumin_div_phosphorus\"] = np.where(\n",
    "    (df[\"phosphorus\"].isna() | (df[\"phosphorus\"] == 0)) | (df[\"corrected_calcium_by_albumin\"].isna() | (df[\"corrected_calcium_by_albumin\"] == 0)),\n",
    "    0,\n",
    "    df[\"corrected_calcium_by_albumin\"] / df[\"phosphorus\"]\n",
    ")\n",
    "\n",
    "# Optionally, display the first few rows to verify the new column was added correctly\n",
    "print(df.head())\n"
   ]
  },
  {
   "cell_type": "markdown",
   "id": "33863fe1-99a2-4675-9ac9-7ba9657537ea",
   "metadata": {},
   "source": [
    "# Calculating bmi_value Column"
   ]
  },
  {
   "cell_type": "code",
   "execution_count": 6,
   "id": "fb58a15a-6f18-4141-98d3-86e1f2ef5934",
   "metadata": {},
   "outputs": [
    {
     "name": "stdout",
     "output_type": "stream",
     "text": [
      "   height  weight  bmi_value\n",
      "0     NaN     NaN        0.0\n",
      "1     NaN     NaN        0.0\n",
      "2     NaN     NaN        0.0\n",
      "3     NaN     NaN        0.0\n",
      "4     NaN     NaN        0.0\n"
     ]
    }
   ],
   "source": [
    "import pandas as pd\n",
    "import numpy as np\n",
    "\n",
    "# Load the CSV file with the specified encoding\n",
    "\n",
    "# Convert 'height' and 'weight' columns to numeric values, coercing non-numeric entries to NaN\n",
    "df['height'] = pd.to_numeric(df['height'], errors='coerce')\n",
    "df['weight'] = pd.to_numeric(df['weight'], errors='coerce')\n",
    "\n",
    "# Compute the BMI value using the formula: weight / (height^2)\n",
    "# Set bmi_value to 0 if either height or weight is missing or equals 0\n",
    "df['bmi_value'] = np.where(\n",
    "    (df['height'].isna()) | (df['weight'].isna()) | (df['height'] == 0) | (df['weight'] == 0),\n",
    "    0,\n",
    "    df['weight'] / (df['height'] ** 2)\n",
    ")\n",
    "\n",
    "# Optionally, display the first few rows to verify the new column has been added correctly\n",
    "print(df[['height', 'weight', 'bmi_value']].head())\n"
   ]
  },
  {
   "cell_type": "markdown",
   "id": "c05982d5-098e-4c5b-bf27-ce66966d7437",
   "metadata": {},
   "source": [
    "# Calculating alp_combined_with_cl_po4_newValue Column"
   ]
  },
  {
   "cell_type": "code",
   "execution_count": 7,
   "id": "36c2ba25-2e1d-4ef7-9d06-39dc5591b79a",
   "metadata": {},
   "outputs": [
    {
     "name": "stdout",
     "output_type": "stream",
     "text": [
      "   alp_value  chlorine  phosphorus  alp_combined_with_cl_po4_newValue\n",
      "0      54.00       NaN        2.72                           0.000000\n",
      "1      61.00     107.0        2.75                        2373.454545\n",
      "2      51.25       NaN        2.75                           0.000000\n",
      "3      69.50       NaN        2.76                           0.000000\n",
      "4      54.00       NaN        2.77                           0.000000\n"
     ]
    }
   ],
   "source": [
    "import pandas as pd\n",
    "import numpy as np\n",
    "\n",
    "# Load CSV file\n",
    "# Convert relevant columns to numeric\n",
    "df['alp_value'] = pd.to_numeric(df['alp_value'], errors='coerce')\n",
    "df['chlorine'] = pd.to_numeric(df['chlorine'], errors='coerce')\n",
    "df['phosphorus'] = pd.to_numeric(df['phosphorus'], errors='coerce')\n",
    "\n",
    "# Create mask for valid calculation\n",
    "valid = (\n",
    "    (df['alp_value'] >= 44) & (df['alp_value'] <= 147) &\n",
    "    (df['alp_value'] != 0) &\n",
    "    (df['chlorine'] != 0) & df['chlorine'].notna() &\n",
    "    (df['phosphorus'] != 0) & df['phosphorus'].notna()\n",
    ")\n",
    "\n",
    "# Compute the new column\n",
    "df['alp_combined_with_cl_po4_newValue'] = np.where(\n",
    "    valid,\n",
    "    df['alp_value'] * (df['chlorine'] / df['phosphorus']),\n",
    "    0\n",
    ")\n",
    "\n",
    "# Optional: view the new column\n",
    "print(df[['alp_value', 'chlorine', 'phosphorus', 'alp_combined_with_cl_po4_newValue']].head())\n"
   ]
  },
  {
   "cell_type": "code",
   "execution_count": 8,
   "id": "adb898ae-b700-4a9f-a298-4512d946fc99",
   "metadata": {},
   "outputs": [
    {
     "name": "stdout",
     "output_type": "stream",
     "text": [
      "Index(['aphp', 'nhph', 'secondary_hp', 'age', 'gender', 'height', 'weight',\n",
      "       'tobacco', 'magnesium', 'albumin', 'serum_calcium', 'serum_creatinine',\n",
      "       'gfr', 'phosphorus', 'urinary_calcium_24h', 'Triglycerides',\n",
      "       'ldl_cholesterol', 'total_cholesterol', 'ast', 'alt', 'ggt', 'bun',\n",
      "       'chlorine', 'serum_25_hydroxy_vitamin_d', 'pth', 'fracture_present',\n",
      "       'kidney_stones_present', 'abdominal_pain', 'fatigue', 'myalgia',\n",
      "       'constipation', 'insomnia', 'polydipsia', 'polyuria', 'muscle_weakness',\n",
      "       'headache', 'nausea', 'amnesia', 'gallstones', 'nephrolithiasis',\n",
      "       'corrected_calcium_by_albumin', 'serum_calcium_phosphorus_ratio',\n",
      "       'pf_index', 'pth_div_phosphorus', 'alp_value',\n",
      "       'corrected_calcium_by_albumin_div_phosphorus', 'bmi_value',\n",
      "       'alp_combined_with_cl_po4_newValue'],\n",
      "      dtype='object')\n"
     ]
    }
   ],
   "source": [
    "import pandas as pd\n",
    "\n",
    "# Example: columns to drop based on your screenshot\n",
    "columns_to_drop = [\n",
    "    \"radius_t_score\",\n",
    "    \"radius_z_score\",\n",
    "    \"99mtc_sestamibi\",\n",
    "    \"4d_mri\",\n",
    "    \"l1_l4_z_score\",\n",
    "    \"femur_total_z_score\",\n",
    "    \"99mtc_mibi\",\n",
    "    \"femur_total_t_score\",\n",
    "    \"l4_t_score\",\n",
    "    \"alp_combined_with_cl_po4\",\n",
    "    \"l3_t_score\",\n",
    "    \"l2_t_score\",\n",
    "    \"l1_l4_t_score\",\n",
    "    \"l1_t_score\",\n",
    "    \"total_protein\",\n",
    "    \"first_surgery_pathology_report\",\n",
    "    \"4d_ct\",\n",
    "    \"l2_z_score\",\n",
    "    \"l3_z_score\",\n",
    "    \"l4_z_score\",\n",
    "    \"l1_z_score\",\n",
    "    \"ionized_calcium\",\n",
    "    \"urinary_creatinine_24h\",\n",
    "    \"femoral_neck_z_score\",\n",
    "    \"femoral_neck_t_score\",\n",
    "    \"parathyroid_scintigraphy\",\n",
    "    \"bmi\",\n",
    "    \"alp\",\n",
    "    \"alp_final\",\n",
    "    \"parathyroid_spect\",\n",
    "    \"neck_ultrasound\"\n",
    "]\n",
    "\n",
    "# Read your CSV (adjust path/encoding as needed)\n",
    "# Drop these columns from DataFrame\n",
    "df.drop(columns=columns_to_drop, inplace=True, errors='ignore')\n",
    "\n",
    "# Verify by printing remaining columns\n",
    "print(df.columns)\n"
   ]
  },
  {
   "cell_type": "code",
   "execution_count": 9,
   "id": "4cc028de-18c1-4980-9d30-f2e6ad30ac59",
   "metadata": {},
   "outputs": [
    {
     "name": "stdout",
     "output_type": "stream",
     "text": [
      "Columns with missing values: ['age', 'height', 'weight', 'magnesium', 'albumin', 'serum_calcium', 'serum_creatinine', 'gfr', 'phosphorus', 'urinary_calcium_24h', 'Triglycerides', 'ldl_cholesterol', 'total_cholesterol', 'ast', 'alt', 'ggt', 'bun', 'chlorine', 'serum_25_hydroxy_vitamin_d', 'pth', 'corrected_calcium_by_albumin', 'serum_calcium_phosphorus_ratio', 'pf_index']\n",
      "Total number of columns with missing values: 23\n",
      "\n",
      "Column Name                         Missing %       | Column Name                         Missing %      \n",
      "--------------------------------------------------------------------------------\n",
      "urinary_calcium_24h                 85.08           | Triglycerides                       53.68          \n",
      "chlorine                            82.74           | magnesium                           48.53          \n",
      "gfr                                 82.03           | serum_25_hydroxy_vitamin_d          40.32          \n",
      "serum_calcium_phosphorus_ratio      80.35           | albumin                             37.33          \n",
      "phosphorus                          80.29           | corrected_calcium_by_albumin        37.09          \n",
      "height                              79.87           | age                                 32.83          \n",
      "weight                              79.75           | ast                                 32.47          \n",
      "pf_index                            75.79           | pth                                 30.50          \n",
      "total_cholesterol                   68.00           | alt                                 26.90          \n",
      "bun                                 66.27           | serum_creatinine                    19.59          \n",
      "ldl_cholesterol                     56.08           | serum_calcium                       13.84          \n",
      "ggt                                 55.06           | \n",
      "Columns without missing values: ['aphp', 'nhph', 'secondary_hp', 'gender', 'tobacco', 'fracture_present', 'kidney_stones_present', 'abdominal_pain', 'fatigue', 'myalgia', 'constipation', 'insomnia', 'polydipsia', 'polyuria', 'muscle_weakness', 'headache', 'nausea', 'amnesia', 'gallstones', 'nephrolithiasis', 'pth_div_phosphorus', 'alp_value', 'corrected_calcium_by_albumin_div_phosphorus', 'bmi_value', 'alp_combined_with_cl_po4_newValue']\n",
      "Total number of columns without missing values: 25\n"
     ]
    }
   ],
   "source": [
    "import numpy as np\n",
    "import numpy as np\n",
    "import numpy as np\n",
    "\n",
    "# Replace empty strings and whitespace with NaN\n",
    "df.replace(r'^\\s*$', np.nan, regex=True, inplace=True)\n",
    "\n",
    "# Find columns with missing values\n",
    "missing_columns = df.columns[df.isnull().any()]\n",
    "\n",
    "# Print column names with missing values\n",
    "print(\"Columns with missing values:\", missing_columns.tolist())\n",
    "\n",
    "# Print the count of columns with missing values\n",
    "print(\"Total number of columns with missing values:\", len(missing_columns))\n",
    "\n",
    "#-------------------------------------------------\n",
    "import numpy as np\n",
    "import pandas as pd\n",
    "\n",
    "# Replace empty strings and whitespace with NaN\n",
    "df.replace(r'^\\s*$', np.nan, regex=True, inplace=True)\n",
    "\n",
    "# Calculate missing value percentage\n",
    "missing_percent = (df.isnull().sum() / len(df)) * 100\n",
    "\n",
    "# Filter only columns with missing values and sort by percentage\n",
    "missing_percent = missing_percent[missing_percent > 0].sort_values(ascending=False)\n",
    "\n",
    "# Convert to DataFrame\n",
    "missing_df = missing_percent.reset_index()\n",
    "missing_df.columns = [\"Column Name\", \"Missing Percentage\"]\n",
    "\n",
    "# Split into two columns for display\n",
    "num_rows = len(missing_df)\n",
    "half = (num_rows // 2) + (num_rows % 2)  # Ensures even distribution\n",
    "\n",
    "df_left = missing_df.iloc[:half]\n",
    "df_right = missing_df.iloc[half:].reset_index(drop=True)\n",
    "\n",
    "# Print formatted output\n",
    "print(\"\\n{: <35} {: <15} | {: <35} {: <15}\".format(\"Column Name\", \"Missing %\", \"Column Name\", \"Missing %\"))\n",
    "print(\"-\" * 80)\n",
    "for i in range(len(df_left)):\n",
    "    col1 = f\"{df_left.iloc[i, 0]: <35} {df_left.iloc[i, 1]: <15.2f}\"\n",
    "    col2 = f\"{df_right.iloc[i, 0]: <35} {df_right.iloc[i, 1]: <15.2f}\" if i < len(df_right) else \"\"\n",
    "    print(f\"{col1} | {col2}\")\n",
    "#-------------------------------------------------\n",
    "\n",
    "# Find columns without missing values\n",
    "non_missing_columns = df.columns[~df.isnull().any()]\n",
    "\n",
    "# Print column names without missing values\n",
    "print(\"Columns without missing values:\", non_missing_columns.tolist())\n",
    "\n",
    "# Print the count of columns without missing values\n",
    "print(\"Total number of columns without missing values:\", len(non_missing_columns))\n"
   ]
  },
  {
   "cell_type": "code",
   "execution_count": 10,
   "id": "e1112181-1c5c-4190-83ea-45cce3223052",
   "metadata": {},
   "outputs": [],
   "source": [
    "df.to_excel('hyperThyroid2025April11.xlsx', index=False)\n"
   ]
  }
 ],
 "metadata": {
  "kernelspec": {
   "display_name": "Python 3 (ipykernel)",
   "language": "python",
   "name": "python3"
  },
  "language_info": {
   "codemirror_mode": {
    "name": "ipython",
    "version": 3
   },
   "file_extension": ".py",
   "mimetype": "text/x-python",
   "name": "python",
   "nbconvert_exporter": "python",
   "pygments_lexer": "ipython3",
   "version": "3.11.0"
  }
 },
 "nbformat": 4,
 "nbformat_minor": 5
}
