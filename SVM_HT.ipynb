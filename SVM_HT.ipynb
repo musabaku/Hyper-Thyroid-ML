{
 "cells": [
  {
   "cell_type": "code",
   "execution_count": 1,
   "id": "d5e77771-f574-4802-82a1-e606f340cee1",
   "metadata": {},
   "outputs": [],
   "source": [
    "import pandas as pd\n",
    "import numpy as np\n",
    "from sklearn.model_selection import cross_val_predict, LeaveOneOut\n",
    "from sklearn.metrics import ConfusionMatrixDisplay\n",
    "from sklearn.model_selection import learning_curve\n",
    "from sklearn.preprocessing import MinMaxScaler\n",
    "from sklearn.svm import SVC\n",
    "\n",
    "import warnings\n",
    "# Code was showing some warnings, from stack overflow optimal answer was to include this\n",
    "warnings.simplefilter(action='ignore', category=FutureWarning)"
   ]
  },
  {
   "cell_type": "code",
   "execution_count": 2,
   "id": "40d1d82d-30de-41f1-aeaf-674d46874333",
   "metadata": {},
   "outputs": [],
   "source": [
    "df = pd.read_csv(\"hyperthyroidism3_FinalDataSet_April.csv\", encoding='latin-1')\n",
    "df.dropna(inplace=True)\n"
   ]
  },
  {
   "cell_type": "code",
   "execution_count": 3,
   "id": "3112da92-e0d1-452f-876a-74609ceddafe",
   "metadata": {},
   "outputs": [],
   "source": [
    "X = df.iloc[:, 1:].values\n",
    "y = df.iloc[:, 0].values  \n"
   ]
  },
  {
   "cell_type": "markdown",
   "id": "4dc31cf4-ee6c-42e7-a3a0-2f5e89810ef8",
   "metadata": {},
   "source": [
    "## Splitting & Using SVM\n"
   ]
  },
  {
   "cell_type": "code",
   "execution_count": 4,
   "id": "417d8ad7-a33a-47a4-b4c4-0f433caba940",
   "metadata": {},
   "outputs": [],
   "source": [
    "from sklearn.model_selection import train_test_split\n",
    "X_train, X_test, y_train, y_test = train_test_split(X, y, test_size=0.2, random_state=42)\n",
    "svm_classifier = SVC(kernel='linear')  \n",
    "\n",
    "svm_classifier.fit(X_train, y_train)\n",
    "test_score = svm_classifier.score(X_test, y_test)\n",
    "y_pred = svm_classifier.predict(X_test)\n",
    "\n"
   ]
  },
  {
   "cell_type": "code",
   "execution_count": 5,
   "id": "cc99c410-f12b-4f97-9fd0-a2080c2a2403",
   "metadata": {},
   "outputs": [],
   "source": [
    "# from sklearn.model_selection import cross_val_predict, KFold\n",
    "\n",
    "# num_folds = 5\n",
    "# svm_classifier = SVC(kernel='linear')\n",
    "# kf = KFold(n_splits=num_folds, shuffle=True, random_state=42)\n",
    "# y_pred = cross_val_predict(svm_classifier, X, y, cv=kf)\n"
   ]
  },
  {
   "cell_type": "markdown",
   "id": "012b148b-7ca2-4bb0-b22f-1f53355e7ce2",
   "metadata": {},
   "source": [
    "## Using Evaluation Metrics"
   ]
  },
  {
   "cell_type": "code",
   "execution_count": 6,
   "id": "81428c1d-74c7-4f66-a399-6d7e73d2e250",
   "metadata": {},
   "outputs": [
    {
     "name": "stdout",
     "output_type": "stream",
     "text": [
      "Accuracy =  90.66666666666666 %\n",
      "Precision =  0.9041539291494336\n",
      "Recall =  0.9067873303167421\n",
      "F1-score =  0.9053030303030303\n"
     ]
    },
    {
     "data": {
      "image/png": "[encoded data removed]",
      "text/plain": [
       "<Figure size 640x480 with 2 Axes>"
      ]
     },
     "metadata": {},
     "output_type": "display_data"
    },
    {
     "name": "stdout",
     "output_type": "stream",
     "text": [
      "Classification Report\n",
      "              precision    recall  f1-score   support\n",
      "\n",
      "           0       0.88      0.91      0.89        65\n",
      "           1       0.93      0.91      0.92        85\n",
      "\n",
      "    accuracy                           0.91       150\n",
      "   macro avg       0.90      0.91      0.91       150\n",
      "weighted avg       0.91      0.91      0.91       150\n",
      "\n"
     ]
    }
   ],
   "source": [
    "import pandas as pd\n",
    "import numpy as np\n",
    "from sklearn.model_selection import LeaveOneOut\n",
    "from sklearn.svm import SVC\n",
    "from sklearn.metrics import accuracy_score, precision_score, recall_score, f1_score, confusion_matrix, classification_report, roc_curve, auc\n",
    "import matplotlib.pyplot as plt\n",
    "\n",
    "print(\"Accuracy = \", accuracy_score(y_test, y_pred) * 100, \"%\")\n",
    "print(\"Precision = \", precision_score(y_test, y_pred,average='macro'))\n",
    "print(\"Recall = \", recall_score(y_test, y_pred,average='macro'))\n",
    "print(\"F1-score = \", f1_score(y_test, y_pred,average='macro'))\n",
    "conf_matrix = confusion_matrix(y_test, y_pred)\n",
    "disp = ConfusionMatrixDisplay(confusion_matrix=conf_matrix, display_labels=np.unique(y))\n",
    "disp.plot()\n",
    "plt.title('Confusion Matrix for SVM Classifier (Leave-One-Out)')\n",
    "plt.show()\n",
    "# Using classification report too\n",
    "print(\"Classification Report\")\n",
    "from sklearn.metrics import classification_report\n",
    "print(classification_report(y_test, y_pred))\n",
    "\n"
   ]
  },
  {
   "cell_type": "code",
   "execution_count": null,
   "id": "ea2cfdf4-5875-45ee-b9f3-4dc785756693",
   "metadata": {},
   "outputs": [],
   "source": [
    "train_sizes, train_scores, test_scores = learning_curve(svm_classifier, X, y, cv=5, train_sizes=np.linspace(0.1, 1.0, 10))\n",
    "\n",
    "plt.figure()\n",
    "plt.plot(train_sizes, np.mean(train_scores, axis=1), 'o-', label=\"Training score\")\n",
    "plt.plot(train_sizes, np.mean(test_scores, axis=1), 'o-', label=\"Cross-validation score\")\n",
    "plt.xlabel(\"Training examples\")\n",
    "plt.ylabel(\"Score\")\n",
    "plt.title(\"Learning Curve\")\n",
    "plt.legend(loc=\"best\")\n",
    "plt.show()"
   ]
  }
 ],
 "metadata": {
  "kernelspec": {
   "display_name": "Python 3 (ipykernel)",
   "language": "python",
   "name": "python3"
  },
  "language_info": {
   "codemirror_mode": {
    "name": "ipython",
    "version": 3
   },
   "file_extension": ".py",
   "mimetype": "text/x-python",
   "name": "python",
   "nbconvert_exporter": "python",
   "pygments_lexer": "ipython3",
   "version": "3.11.0"
  }
 },
 "nbformat": 4,
 "nbformat_minor": 5
}
