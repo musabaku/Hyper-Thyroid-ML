{
 "cells": [
  {
   "cell_type": "markdown",
   "id": "a871d397-43df-4001-b64f-ffbd484f3ccb",
   "metadata": {},
   "source": [
    "# Handling comorobodity"
   ]
  },
  {
   "cell_type": "code",
   "execution_count": 1,
   "id": "e7a84c39-21f5-4a3f-ac5e-4a81baf47f4f",
   "metadata": {},
   "outputs": [],
   "source": [
    "import pandas as pd\n",
    "from sklearn.cluster import KMeans\n",
    "import matplotlib.pyplot as plt\n",
    "import warnings\n",
    "\n",
    "df = pd.read_csv(\"2024Nov_HT_Phase2.8_Final_Cormobdity.csv\", encoding='latin-1')\n"
   ]
  },
  {
   "cell_type": "markdown",
   "id": "af3006c4-aaf7-4574-8279-cbe8d7bb220b",
   "metadata": {},
   "source": [
    "# Coverting '0' as a string to numerical value 0"
   ]
  },
  {
   "cell_type": "code",
   "execution_count": 2,
   "id": "7e2a66b5-6fe1-400b-b9c2-223cb8439e5b",
   "metadata": {},
   "outputs": [],
   "source": [
    "df['comorbidity'] = df['comorbidity'].apply(lambda x: 0 if x == '0' else x)\n",
    "\n",
    "\n"
   ]
  },
  {
   "cell_type": "code",
   "execution_count": 3,
   "id": "0df618fe-a5a3-468c-8825-5956c483029e",
   "metadata": {},
   "outputs": [],
   "source": [
    "# print(df['comorbidity'].to_list())\n"
   ]
  },
  {
   "cell_type": "markdown",
   "id": "50ee3c78-aef2-4523-86fb-90092ced680f",
   "metadata": {},
   "source": [
    "# Label encoding with bobrek as 1, malign as 2, osteoporoz as 3"
   ]
  },
  {
   "cell_type": "code",
   "execution_count": 4,
   "id": "5a46a1c8-216f-44f2-a2d2-96dacfd923cd",
   "metadata": {},
   "outputs": [
    {
     "name": "stdout",
     "output_type": "stream",
     "text": [
      "[[0], [0], [0], [0], [0], [0], [0], [0], [0], [0], [0], [0], [0], [0], [0], [0], [0], [0], [0], [0], [0], [0], [1], [0], [0], [0], [0], [0], [0], [0], [0], [0], [0], [0], [0], [0], [0], [0], [0], [0], [0], [0], [0], [0], [0], [0], [0], [0], [0], [0], [0], [0], [0], [0], [0], [0], [0], [0], [0], [0], [0], [0], [0], [0], [0], [0], [0], [0], [0], [0], [0], [0], [1], [0], [0], [0], [0], [0], [0], [0], [0], [0], [0], [0], [0], [0], [0], [0], [0], [0], [0], [0], [0], [0], [0], [0], [0], [0], [0], [0], [0], [0], [0], [0], [0], [0], [0], [0], [0], [0], [0], [0], [0], [0], [0], [0], [0], [0], [0], [0], [0], [0], [1], [0], [0], [0], [0], [0], [0], [0], [0], [0], [3], [0], [0], [0], [1, 3], [0], [0], [0], [0], [0], [0], [0], [0], [0], [0], [0], [0], [0], [0], [0], [0], [0], [0], [0], [0], [0], [0], [2], [0], [0], [0], [0], [0], [0], [0], [0], [0], [0], [0], [0], [0], [0], [0], [0], [0], [0], [0], [0], [0], [0], [0], [0], [0], [0], [0], [0], [0], [0], [0], [0], [0], [0], [0], [0], [0], [0], [0], [0], [0], [0], [0], [0], [0], [0], [0], [0], [0], [0], [0], [0], [0], [0], [0], [0], [0], [0], [0], [0], [0], [0], [0], [0], [0], [0], [0], [0], [0], [0], [0], [0], [2], [2], [0], [0], [0], [0], [0], [0], [0], [0], [0], [0], [0], [0], [0], [0], [0], [0], [2], [0], [0], [0], [0], [0], [0], [0], [0], [0], [0], [0], [0], [2], [2], [0], [0], [0], [0], [0], [0], [3], [0], [2, 3], [0], [0], [0], [0], [0], [0], [0], [0], [0], [0], [0], [0], [2], [0], [0], [0], [0], [0], [0], [0], [0], [0], [1], [0], [0], [0], [0], [0], [0], [0], [0], [0], [0], [0], [2], [2], [2], [0], [0], [0], [0], [0], [0], [0], [0], [0], [0], [0], [0], [0], [0], [0], [0], [0], [0], [0], [2], [0], [0], [0], [0], [0], [0], [0], [0], [0], [0], [0], [0], [0], [0], [3], [0], [0], [0], [0], [0], [0], [0], [0], [0], [2], [0], [0], [0], [0], [2], [0], [0], [1], [0], [1], [0], [0], [0], [0], [0], [0], [0], [0], [0], [0], [0], [0], [2], [0], [0], [0], [0], [0], [0], [0], [0], [0], [0], [0], [0], [0], [0], [0], [0], [0], [0], [0], [1], [1], [0], [0], [0], [0], [0], [0], [0], [0], [0], [0], [0], [0], [0], [0], [0], [0], [0], [0], [0], [0], [0], [0], [0], [0], [0], [0], [0], [0], [0], [0], [0], [0], [0], [0], [0], [0], [0], [0], [0], [0], [0], [1], [0], [0], [0], [0], [0], [0], [0], [0], [0], [0], [0], [0], [2], [2], [2], [0], [0], [0], [0], [0], [0], [0], [0], [0], [0], [0], [0], [2], [2], [2], [0], [0], [2], [0], [0], [0], [0], [0], [0], [2], [2], [0], [0], [0], [0], [0], [2], [2], [0], [0], [0], [0], [0], [0], [0], [0], [0], [0], [0], [0], [0], [0], [0], [0], [0], [1], [0], [0], [0], [2], [0], [0], [0], [0], [0], [0], [0], [0], [0], [0], [0], [0], [0], [0], [0], [0], [0], [0], [0], [0], [0], [0], [0], [0], [0], [1], [0], [0], [0], [0], [0], [0], [0], [0], [0], [0], [0], [2], [0], [0], [0], [0], [0], [2], [2], [2], [0], [0], [0], [0], [0], [0], [0], [0], [0], [2], [0], [0], [0], [0], [0], [0], [0], [0], [0], [0], [0], [0], [0], [0], [0], [0], [2], [0], [0], [0], [0], [0], [0], [0], [0], [0], [0], [0], [0], [2], [0], [0], [0], [0], [0], [0], [0], [0], [0], [0], [0], [0], [0], [0], [0], [0], [0], [0], [0], [0], [0], [0], [0], [0], [0], [0], [0], [0], [0], [0], [2], [0], [0], [0], [0], [0], [0], [2], [2], [2], [0], [0], [0], [0], [0], [0], [0], [0], [0], [0], [0], [0], [0], [0], [0], [0], [0], [0], [0], [0], [0], [0], [0], [0], [0], [0], [0], [0], [0], [0], [0], [0], [0], [0], [0], [0], [0], [0], [0], [0], [0], [0], [0], [0], [0], [0], [0], [0], [0], [0], [0], [0], [1], [0], [0], [0], [0], [0], [0], [2], [2], [0], [0], [0], [0], [0], [0], [0], [0], [0], [0], [0], [0], [0], [0], [0], [0], [2], [2], [0], [0], [0], [0], [0], [0], [2], [0], [0], [0], [0], [2], [0], [2], [0], [0], [0], [2], [2], [2], [0], [0], [0], [0], [0], [0], [0], [0], [0], [0], [0], [0], [0], [0], [0], [0], [0], [0], [0], [0], [0], [0], [0], [0], [0], [0], [0], [0], [0], [0], [0], [0], [0], [0], [0], [0], [0], [0], [0], [0], [0], [0], [0], [0], [0], [0], [0], [0], [0], [0], [0], [3], [0], [0], [0], [0], [0], [0], [0], [0], [0], [0], [0], [0], [0], [0], [0], [0], [0], [0], [0], [0], [0], [0], [0], [0], [0], [0], [0], [0], [0], [0], [0], [0], [0], [0], [0], [0], [0], [0], [0], [0], [0], [0], [0], [3], [0], [0], [0], [0], [0], [1], [0], [0], [0], [0], [0], [0], [0], [0], [0], [0], [0], [0], [0], [0], [0], [0], [0], [0], [0], [0], [0], [0], [0], [0], [0], [0], [0], [0], [0], [0], [0], [0], [0], [0], [0], [0], [0], [0], [0], [0], [0], [0], [0], [0], [0], [0], [0], [0], [0], [0], [0], [0], [0], [0], [0], [0], [0], [0], [0], [0], [0], [0], [0], [0], [0], [0], [0], [0], [0], [0], [0], [0], [0], [0], [0], [0], [0], [0], [0], [0], [0], [0], [0], [0], [0], [0], [0], [0], [0], [0], [0], [0], [0], [0], [0], [0], [0], [0], [0], [0], [0], [0], [0], [0], [0], [0], [0], [0], [0], [0], [0], [0], [0], [0], [0], [0], [0], [0], [0], [0], [0], [0], [0], [0], [0], [0], [0], [0], [0], [0], [0], [0], [0], [0], [0], [0], [0], [0], [0], [0], [0], [0], [0], [0], [0], [0], [0], [0], [0], [0], [0], [0], [0], [0], [0], [0], [0], [0], [0], [0], [0], [0], [0], [0], [0], [0], [0], [0], [0], [0], [0], [0], [0], [0], [0], [0], [0], [0], [0], [0], [0], [0], [0], [0], [0], [0], [0], [0], [0], [0], [0], [0], [0], [0], [0], [0], [0], [0], [0], [0], [0], [0], [0], [0], [0], [0], [0], [0], [0], [0], [0], [0], [0], [0], [0], [0], [0], [0], [0], [0], [0], [0], [0], [0], [0], [0], [0], [3], [0], [0], [3], [0], [0], [0], [0], [0], [0], [0], [0], [0], [0], [0], [0], [3], [0], [0], [0], [0], [0], [0], [0], [0], [0], [0], [0], [0], [0], [0], [0], [0], [0], [0], [0], [0], [0], [0], [0], [0], [0], [0], [0], [0], [0], [0], [0], [0], [0], [0], [0], [0], [0], [0], [0], [0], [0], [0], [0], [0], [0], [0], [0], [0], [0], [0], [0], [0], [0], [0], [0], [0], [0], [0], [0], [0], [0], [0], [0], [0], [0], [0], [0], [0], [0], [0], [0], [0], [0], [0], [0], [0], [0], [0], [0], [0], [0], [0], [0], [0], [0], [0], [0], [0], [0], [0], [0], [0], [0], [0], [0], [0], [0], [0], [0], [0], [0], [0], [0], [0], [0], [0], [0], [0], [0], [0], [0], [0], [0], [0], [0], [0], [0], [0], [0], [0], [0], [0], [0], [0], [0], [0], [0], [0], [0], [0], [0], [0], [0], [0], [0], [0], [0], [0], [0], [0], [0], [0], [0], [0], [0], [0], [0], [0], [0], [0], [0], [0], [0], [0], [3], [0], [0], [0], [0], [0], [3], [0], [0], [0], [0], [0], [0], [0], [0], [3], [0], [0], [0], [0], [0], [0], [0], [0], [0], [0], [0], [0], [0], [0], [0], [0], [0], [0], [0], [0], [0], [0], [0], [0], [0], [0], [0], [0], [0], [0], [0], [0], [0], [0], [0], [0], [0], [0], [0], [0], [0], [0], [0], [0], [0], [0], [0], [0], [0], [0], [0], [0], [0], [0], [0], [0], [0], [0], [0], [0], [0], [0], [0], [0], [0], [0], [0], [0], [0], [0], [0], [0], [0], [0], [0], [0], [0], [0], [0], [0], [0], [0], [0], [0], [0], [0], [0], [0], [0], [0], [0], [0], [0], [0], [0], [0], [0], [0], [0], [0], [0], [0], [0], [0], [0], [0], [0], [0], [0], [0], [0], [0], [0], [0], [0], [0], [0]]\n"
     ]
    }
   ],
   "source": [
    "import pandas as pd\n",
    "\n",
    "\n",
    "\n",
    "# Define the disease keywords and their mappings\n",
    "disease_keywords = [\"böbrek\", \"mal?gn\", \"malign\", \"osteoporoz\"]\n",
    "keyword_to_label = {\"böbrek\": 1, \"mal?gn\": 2, \"malign\": 2, \"osteoporoz\": 3}\n",
    "\n",
    "\n",
    "\n",
    "# Function to check for keywords and assign corresponding labels\n",
    "def encode_keywords(text, keyword_to_label):\n",
    "    if isinstance(text, str):  # Only process if the value is a string\n",
    "        encoded_values = []\n",
    "        for keyword, label in keyword_to_label.items():\n",
    "            if keyword.lower() in text.lower():  # case insensitive check\n",
    "                encoded_values.append(label)\n",
    "        return encoded_values if encoded_values else [0]  # Assign 0 if none found\n",
    "    else:\n",
    "        return [0]  # Return [0] if the value is numeric (e.g., 0)\n",
    "\n",
    "# Apply the function to the dataset\n",
    "df['encoded_comorbidities'] = df['comorbidity'].apply(lambda x: encode_keywords(x, keyword_to_label))\n",
    "\n",
    "# Show the results\n",
    "print(df['encoded_comorbidities'].to_list())\n",
    "\n"
   ]
  },
  {
   "cell_type": "code",
   "execution_count": 5,
   "id": "9698975c-aa2b-4cf2-968c-376b107cdd64",
   "metadata": {},
   "outputs": [],
   "source": [
    "# Get all non-zero values from the 'comorbidity' column\n",
    "# non_zero_values = df['comorbidity'][df['comorbidity'] != 0]\n",
    "\n",
    "# Print non-zero values\n",
    "# print(non_zero_values.to_list())"
   ]
  },
  {
   "cell_type": "markdown",
   "id": "9e55b0c6-2c2e-4578-87b8-69174b96ab87",
   "metadata": {},
   "source": [
    "# Converting [0] or [1] etc as 0,1 numerical | if in a single cell (bobrek and osteoporoz) -> osteoporoz | (malign and osteoporoz) -> osteoporoz"
   ]
  },
  {
   "cell_type": "code",
   "execution_count": 6,
   "id": "967020ae-bf43-4016-8fba-413a3c84fc51",
   "metadata": {},
   "outputs": [
    {
     "name": "stdout",
     "output_type": "stream",
     "text": [
      "      aphp  nhph  tertiary_hp  secondary_hp  age  gender  height  weight  bmi  \\\n",
      "0        0     0            0             0    0      -1     0.0     0.0  0.0   \n",
      "1        0     0            0             0   65       0     0.0     0.0  0.0   \n",
      "2        0     0            0             0    0      -1     0.0     0.0  0.0   \n",
      "3        0     0            0             0    0      -1     0.0     0.0  0.0   \n",
      "4        0     1            0             0   40       1   162.0    82.0  0.0   \n",
      "...    ...   ...          ...           ...  ...     ...     ...     ...  ...   \n",
      "1365     0     0            0             0    0      -1     0.0     0.0  0.0   \n",
      "1366     0     0            0             0    0      -1     0.0     0.0  0.0   \n",
      "1367     0     0            0             0    0      -1     0.0     0.0  0.0   \n",
      "1368     0     0            0             0    0      -1     0.0     0.0  0.0   \n",
      "1369     0     0            0             0    0      -1     0.0     0.0  0.0   \n",
      "\n",
      "     marital_status  ...  KIRIKVAR nephrolithiasis  bone_specific_alp  \\\n",
      "0                 0  ...         0              -1                  0   \n",
      "1                 0  ...         0              -1                  0   \n",
      "2                 0  ...         0              -1                  0   \n",
      "3                 0  ...         0              -1                  0   \n",
      "4                 0  ...         0              -1                  0   \n",
      "...             ...  ...       ...             ...                ...   \n",
      "1365              0  ...         0              -1                  0   \n",
      "1366              0  ...         0              -1                  0   \n",
      "1367              0  ...         0              -1                  0   \n",
      "1368              0  ...         0              -1                  0   \n",
      "1369              0  ...         0              -1                  0   \n",
      "\n",
      "     serum_calcium_phosphorus_ratio third_surgery_pathology_report  \\\n",
      "0                                 0                              0   \n",
      "1                                 0                              0   \n",
      "2                                 0                              0   \n",
      "3                                 0                              0   \n",
      "4                                 0                              0   \n",
      "...                             ...                            ...   \n",
      "1365                              0                              0   \n",
      "1366                              0                              0   \n",
      "1367                              0                              0   \n",
      "1368                              0                              0   \n",
      "1369                              0                              0   \n",
      "\n",
      "     fourth_surgery_pathology_report  triglycerides hdl_cholesterol  \\\n",
      "0                                  0              0               0   \n",
      "1                                  0              0               0   \n",
      "2                                  0              0               0   \n",
      "3                                  0              0               0   \n",
      "4                                  0              0               0   \n",
      "...                              ...            ...             ...   \n",
      "1365                               0              0               0   \n",
      "1366                               0              0               0   \n",
      "1367                               0              0               0   \n",
      "1368                               0              0               0   \n",
      "1369                               0              0               0   \n",
      "\n",
      "      Unnamed: 72  encoded_comorbidities  \n",
      "0             NaN                      0  \n",
      "1             NaN                      0  \n",
      "2             NaN                      0  \n",
      "3             NaN                      0  \n",
      "4             NaN                      0  \n",
      "...           ...                    ...  \n",
      "1365          NaN                      0  \n",
      "1366          NaN                      0  \n",
      "1367          NaN                      0  \n",
      "1368          NaN                      0  \n",
      "1369          NaN                      0  \n",
      "\n",
      "[1370 rows x 74 columns]\n"
     ]
    }
   ],
   "source": [
    "import pandas as pd\n",
    "\n",
    "\n",
    "\n",
    "# Define the disease keywords and their mappings\n",
    "disease_keywords = [\"böbrek\", \"mal?gn\", \"malign\", \"osteoporoz\"]\n",
    "keyword_to_label = {\"böbrek\": 1, \"mal?gn\": 2, \"malign\": 2, \"osteoporoz\": 3}\n",
    "\n",
    "\n",
    "# Function to check for keywords and assign corresponding labels\n",
    "def encode_keywords(text, keyword_to_label):\n",
    "    if isinstance(text, str):  # Only process if the value is a string\n",
    "        encoded_values = []\n",
    "        for keyword, label in keyword_to_label.items():\n",
    "            if keyword.lower() in text.lower():  # case insensitive check\n",
    "                encoded_values.append(label)\n",
    "        return encoded_values if encoded_values else [0]  # Assign 0 if none found\n",
    "    else:\n",
    "        return [0]  # Return [0] if the value is numeric (e.g., 0)\n",
    "\n",
    "# Apply the function to the dataset\n",
    "df['encoded_comorbidities'] = df['comorbidity'].apply(lambda x: encode_keywords(x, keyword_to_label))\n",
    "\n",
    "# Flatten the list and replace [1, 3] with 1\n",
    "df['encoded_comorbidities'] = df['encoded_comorbidities'].apply(\n",
    "lambda x: 3 if set(x) == {1, 3} or set(x) == {2, 3} else x[0]\n",
    ")\n",
    "\n",
    "# Show the results\n",
    "print(df)\n"
   ]
  },
  {
   "cell_type": "code",
   "execution_count": 7,
   "id": "ec52f830-643d-45fe-89e8-6f205e34430b",
   "metadata": {},
   "outputs": [
    {
     "name": "stdout",
     "output_type": "stream",
     "text": [
      "[1, 1, 1, 3, 3, 2, 2, 2, 2, 2, 2, 3, 3, 2, 1, 2, 2, 2, 2, 3, 2, 2, 1, 1, 2, 1, 1, 1, 2, 2, 2, 2, 2, 2, 2, 2, 2, 2, 2, 1, 2, 1, 2, 2, 2, 2, 2, 2, 2, 2, 2, 2, 2, 1, 2, 2, 2, 2, 2, 2, 2, 2, 2, 2, 3, 3, 1, 3, 3, 3, 3, 3, 3]\n"
     ]
    }
   ],
   "source": [
    "# Get all non-zero values from the 'comorbidity' column\n",
    "non_zero_values = df['encoded_comorbidities'][df['encoded_comorbidities'] != 0]\n",
    "\n",
    "# Print non-zero values\n",
    "print(non_zero_values.to_list())"
   ]
  },
  {
   "cell_type": "code",
   "execution_count": 8,
   "id": "2e5d0599-aafc-4411-9d3c-27140d0e8f9d",
   "metadata": {},
   "outputs": [
    {
     "name": "stdout",
     "output_type": "stream",
     "text": [
      "[0, 0, 0, 0, 0, 0, 0, 0, 0, 0, 0, 0, 0, 0, 0, 0, 0, 0, 0, 0, 0, 0, 1, 0, 0, 0, 0, 0, 0, 0, 0, 0, 0, 0, 0, 0, 0, 0, 0, 0, 0, 0, 0, 0, 0, 0, 0, 0, 0, 0, 0, 0, 0, 0, 0, 0, 0, 0, 0, 0, 0, 0, 0, 0, 0, 0, 0, 0, 0, 0, 0, 0, 1, 0, 0, 0, 0, 0, 0, 0, 0, 0, 0, 0, 0, 0, 0, 0, 0, 0, 0, 0, 0, 0, 0, 0, 0, 0, 0, 0, 0, 0, 0, 0, 0, 0, 0, 0, 0, 0, 0, 0, 0, 0, 0, 0, 0, 0, 0, 0, 0, 0, 1, 0, 0, 0, 0, 0, 0, 0, 0, 0, 3, 0, 0, 0, 3, 0, 0, 0, 0, 0, 0, 0, 0, 0, 0, 0, 0, 0, 0, 0, 0, 0, 0, 0, 0, 0, 0, 2, 0, 0, 0, 0, 0, 0, 0, 0, 0, 0, 0, 0, 0, 0, 0, 0, 0, 0, 0, 0, 0, 0, 0, 0, 0, 0, 0, 0, 0, 0, 0, 0, 0, 0, 0, 0, 0, 0, 0, 0, 0, 0, 0, 0, 0, 0, 0, 0, 0, 0, 0, 0, 0, 0, 0, 0, 0, 0, 0, 0, 0, 0, 0, 0, 0, 0, 0, 0, 0, 0, 0, 0, 2, 2, 0, 0, 0, 0, 0, 0, 0, 0, 0, 0, 0, 0, 0, 0, 0, 0, 2, 0, 0, 0, 0, 0, 0, 0, 0, 0, 0, 0, 0, 2, 2, 0, 0, 0, 0, 0, 0, 3, 0, 3, 0, 0, 0, 0, 0, 0, 0, 0, 0, 0, 0, 0, 2, 0, 0, 0, 0, 0, 0, 0, 0, 0, 1, 0, 0, 0, 0, 0, 0, 0, 0, 0, 0, 0, 2, 2, 2, 0, 0, 0, 0, 0, 0, 0, 0, 0, 0, 0, 0, 0, 0, 0, 0, 0, 0, 0, 2, 0, 0, 0, 0, 0, 0, 0, 0, 0, 0, 0, 0, 0, 0, 3, 0, 0, 0, 0, 0, 0, 0, 0, 0, 2, 0, 0, 0, 0, 2, 0, 0, 1, 0, 1, 0, 0, 0, 0, 0, 0, 0, 0, 0, 0, 0, 0, 2, 0, 0, 0, 0, 0, 0, 0, 0, 0, 0, 0, 0, 0, 0, 0, 0, 0, 0, 0, 1, 1, 0, 0, 0, 0, 0, 0, 0, 0, 0, 0, 0, 0, 0, 0, 0, 0, 0, 0, 0, 0, 0, 0, 0, 0, 0, 0, 0, 0, 0, 0, 0, 0, 0, 0, 0, 0, 0, 0, 0, 0, 0, 1, 0, 0, 0, 0, 0, 0, 0, 0, 0, 0, 0, 0, 2, 2, 2, 0, 0, 0, 0, 0, 0, 0, 0, 0, 0, 0, 0, 2, 2, 2, 0, 0, 2, 0, 0, 0, 0, 0, 0, 2, 2, 0, 0, 0, 0, 0, 2, 2, 0, 0, 0, 0, 0, 0, 0, 0, 0, 0, 0, 0, 0, 0, 0, 0, 0, 1, 0, 0, 0, 2, 0, 0, 0, 0, 0, 0, 0, 0, 0, 0, 0, 0, 0, 0, 0, 0, 0, 0, 0, 0, 0, 0, 0, 0, 0, 1, 0, 0, 0, 0, 0, 0, 0, 0, 0, 0, 0, 2, 0, 0, 0, 0, 0, 2, 2, 2, 0, 0, 0, 0, 0, 0, 0, 0, 0, 2, 0, 0, 0, 0, 0, 0, 0, 0, 0, 0, 0, 0, 0, 0, 0, 0, 2, 0, 0, 0, 0, 0, 0, 0, 0, 0, 0, 0, 0, 2, 0, 0, 0, 0, 0, 0, 0, 0, 0, 0, 0, 0, 0, 0, 0, 0, 0, 0, 0, 0, 0, 0, 0, 0, 0, 0, 0, 0, 0, 0, 2, 0, 0, 0, 0, 0, 0, 2, 2, 2, 0, 0, 0, 0, 0, 0, 0, 0, 0, 0, 0, 0, 0, 0, 0, 0, 0, 0, 0, 0, 0, 0, 0, 0, 0, 0, 0, 0, 0, 0, 0, 0, 0, 0, 0, 0, 0, 0, 0, 0, 0, 0, 0, 0, 0, 0, 0, 0, 0, 0, 0, 0, 1, 0, 0, 0, 0, 0, 0, 2, 2, 0, 0, 0, 0, 0, 0, 0, 0, 0, 0, 0, 0, 0, 0, 0, 0, 2, 2, 0, 0, 0, 0, 0, 0, 2, 0, 0, 0, 0, 2, 0, 2, 0, 0, 0, 2, 2, 2, 0, 0, 0, 0, 0, 0, 0, 0, 0, 0, 0, 0, 0, 0, 0, 0, 0, 0, 0, 0, 0, 0, 0, 0, 0, 0, 0, 0, 0, 0, 0, 0, 0, 0, 0, 0, 0, 0, 0, 0, 0, 0, 0, 0, 0, 0, 0, 0, 0, 0, 0, 3, 0, 0, 0, 0, 0, 0, 0, 0, 0, 0, 0, 0, 0, 0, 0, 0, 0, 0, 0, 0, 0, 0, 0, 0, 0, 0, 0, 0, 0, 0, 0, 0, 0, 0, 0, 0, 0, 0, 0, 0, 0, 0, 0, 3, 0, 0, 0, 0, 0, 1, 0, 0, 0, 0, 0, 0, 0, 0, 0, 0, 0, 0, 0, 0, 0, 0, 0, 0, 0, 0, 0, 0, 0, 0, 0, 0, 0, 0, 0, 0, 0, 0, 0, 0, 0, 0, 0, 0, 0, 0, 0, 0, 0, 0, 0, 0, 0, 0, 0, 0, 0, 0, 0, 0, 0, 0, 0, 0, 0, 0, 0, 0, 0, 0, 0, 0, 0, 0, 0, 0, 0, 0, 0, 0, 0, 0, 0, 0, 0, 0, 0, 0, 0, 0, 0, 0, 0, 0, 0, 0, 0, 0, 0, 0, 0, 0, 0, 0, 0, 0, 0, 0, 0, 0, 0, 0, 0, 0, 0, 0, 0, 0, 0, 0, 0, 0, 0, 0, 0, 0, 0, 0, 0, 0, 0, 0, 0, 0, 0, 0, 0, 0, 0, 0, 0, 0, 0, 0, 0, 0, 0, 0, 0, 0, 0, 0, 0, 0, 0, 0, 0, 0, 0, 0, 0, 0, 0, 0, 0, 0, 0, 0, 0, 0, 0, 0, 0, 0, 0, 0, 0, 0, 0, 0, 0, 0, 0, 0, 0, 0, 0, 0, 0, 0, 0, 0, 0, 0, 0, 0, 0, 0, 0, 0, 0, 0, 0, 0, 0, 0, 0, 0, 0, 0, 0, 0, 0, 0, 0, 0, 0, 0, 0, 0, 0, 0, 0, 0, 0, 0, 0, 0, 0, 0, 0, 0, 0, 3, 0, 0, 3, 0, 0, 0, 0, 0, 0, 0, 0, 0, 0, 0, 0, 3, 0, 0, 0, 0, 0, 0, 0, 0, 0, 0, 0, 0, 0, 0, 0, 0, 0, 0, 0, 0, 0, 0, 0, 0, 0, 0, 0, 0, 0, 0, 0, 0, 0, 0, 0, 0, 0, 0, 0, 0, 0, 0, 0, 0, 0, 0, 0, 0, 0, 0, 0, 0, 0, 0, 0, 0, 0, 0, 0, 0, 0, 0, 0, 0, 0, 0, 0, 0, 0, 0, 0, 0, 0, 0, 0, 0, 0, 0, 0, 0, 0, 0, 0, 0, 0, 0, 0, 0, 0, 0, 0, 0, 0, 0, 0, 0, 0, 0, 0, 0, 0, 0, 0, 0, 0, 0, 0, 0, 0, 0, 0, 0, 0, 0, 0, 0, 0, 0, 0, 0, 0, 0, 0, 0, 0, 0, 0, 0, 0, 0, 0, 0, 0, 0, 0, 0, 0, 0, 0, 0, 0, 0, 0, 0, 0, 0, 0, 0, 0, 0, 0, 0, 0, 0, 3, 0, 0, 0, 0, 0, 3, 0, 0, 0, 0, 0, 0, 0, 0, 3, 0, 0, 0, 0, 0, 0, 0, 0, 0, 0, 0, 0, 0, 0, 0, 0, 0, 0, 0, 0, 0, 0, 0, 0, 0, 0, 0, 0, 0, 0, 0, 0, 0, 0, 0, 0, 0, 0, 0, 0, 0, 0, 0, 0, 0, 0, 0, 0, 0, 0, 0, 0, 0, 0, 0, 0, 0, 0, 0, 0, 0, 0, 0, 0, 0, 0, 0, 0, 0, 0, 0, 0, 0, 0, 0, 0, 0, 0, 0, 0, 0, 0, 0, 0, 0, 0, 0, 0, 0, 0, 0, 0, 0, 0, 0, 0, 0, 0, 0, 0, 0, 0, 0, 0, 0, 0, 0, 0, 0, 0, 0, 0, 0, 0, 0, 0, 0]\n"
     ]
    }
   ],
   "source": [
    "print(df['encoded_comorbidities'].to_list())\n"
   ]
  },
  {
   "cell_type": "code",
   "execution_count": 9,
   "id": "a1c3a4d9-549c-496b-924e-7c9f59407c25",
   "metadata": {},
   "outputs": [
    {
     "name": "stdout",
     "output_type": "stream",
     "text": [
      "       aphp   nhph  tertiary_hp  secondary_hp    age  gender  height  weight  \\\n",
      "0     False  False        False         False  False   False   False   False   \n",
      "1     False  False        False         False  False   False   False   False   \n",
      "2     False  False        False         False  False   False   False   False   \n",
      "3     False  False        False         False  False   False   False   False   \n",
      "4     False  False        False         False  False   False   False   False   \n",
      "...     ...    ...          ...           ...    ...     ...     ...     ...   \n",
      "1365  False  False        False         False  False   False   False   False   \n",
      "1366  False  False        False         False  False   False   False   False   \n",
      "1367  False  False        False         False  False   False   False   False   \n",
      "1368  False  False        False         False  False   False   False   False   \n",
      "1369  False  False        False         False  False   False   False   False   \n",
      "\n",
      "        bmi  marital_status  ...  KIRIKVAR  nephrolithiasis  \\\n",
      "0     False           False  ...     False            False   \n",
      "1     False           False  ...     False            False   \n",
      "2     False           False  ...     False            False   \n",
      "3     False           False  ...     False            False   \n",
      "4     False           False  ...     False            False   \n",
      "...     ...             ...  ...       ...              ...   \n",
      "1365  False           False  ...     False            False   \n",
      "1366  False           False  ...     False            False   \n",
      "1367  False           False  ...     False            False   \n",
      "1368  False           False  ...     False            False   \n",
      "1369  False           False  ...     False            False   \n",
      "\n",
      "      bone_specific_alp  serum_calcium_phosphorus_ratio  \\\n",
      "0                 False                           False   \n",
      "1                 False                           False   \n",
      "2                 False                           False   \n",
      "3                 False                           False   \n",
      "4                 False                           False   \n",
      "...                 ...                             ...   \n",
      "1365              False                           False   \n",
      "1366              False                           False   \n",
      "1367              False                           False   \n",
      "1368              False                           False   \n",
      "1369              False                           False   \n",
      "\n",
      "      third_surgery_pathology_report  fourth_surgery_pathology_report  \\\n",
      "0                              False                            False   \n",
      "1                              False                            False   \n",
      "2                              False                            False   \n",
      "3                              False                            False   \n",
      "4                              False                            False   \n",
      "...                              ...                              ...   \n",
      "1365                           False                            False   \n",
      "1366                           False                            False   \n",
      "1367                           False                            False   \n",
      "1368                           False                            False   \n",
      "1369                           False                            False   \n",
      "\n",
      "      triglycerides  hdl_cholesterol  Unnamed: 72  encoded_comorbidities  \n",
      "0             False            False         True                  False  \n",
      "1             False            False         True                  False  \n",
      "2             False            False         True                  False  \n",
      "3             False            False         True                  False  \n",
      "4             False            False         True                  False  \n",
      "...             ...              ...          ...                    ...  \n",
      "1365          False            False         True                  False  \n",
      "1366          False            False         True                  False  \n",
      "1367          False            False         True                  False  \n",
      "1368          False            False         True                  False  \n",
      "1369          False            False         True                  False  \n",
      "\n",
      "[1370 rows x 74 columns]\n"
     ]
    }
   ],
   "source": [
    "import pandas as pd\n",
    "\n",
    "# Assuming df is your DataFrame\n",
    "nan_locations = df.isna()\n",
    "\n",
    "# Print the rows and columns where NaN values are present\n",
    "print(nan_locations)\n"
   ]
  },
  {
   "cell_type": "code",
   "execution_count": 10,
   "id": "102203a4-b948-4ea7-86b0-b95078846e5a",
   "metadata": {},
   "outputs": [
    {
     "name": "stdout",
     "output_type": "stream",
     "text": [
      "Index(['aphp', 'nhph', 'tertiary_hp', 'secondary_hp', 'age', 'gender',\n",
      "       'height', 'weight', 'bmi', 'marital_status', 'tobacco', 'comorbidity',\n",
      "       'magnesium', 'alp', 'albumin', 'serum_calcium', 'ionized_calcium',\n",
      "       'serum_creatinine', 'gfr', 'phosphorus', 'urinary_calcium_24h',\n",
      "       'urinary_creatinine_24h', 'corrected_calcium_by_albumin', 'pth',\n",
      "       'urinary_phosphorus_24h', 'urinary_sodium_24h', 'total_protein',\n",
      "       'Triglycerides', 'ldl_cholesterol', 'total_cholesterol', 'ast', 'alt',\n",
      "       'ALP', 'ggt', 'bun', 'chlorine', 'serum_25_hydroxy_vitamin_d',\n",
      "       'fracture_present', 'kidney_stones_present', 'l1_t_score', 'l2_t_score',\n",
      "       'l3_t_score', 'l4_t_score', 'l1_z_score', 'l2_z_score', 'l3_z_score',\n",
      "       'l4_z_score', 'femoral_neck_z_score', 'femoral_neck_t_score',\n",
      "       'radius_z_score', 'radius_t_score', 'psychiatric_symptoms_present',\n",
      "       'abdominal_pain', 'fatigue', 'myalgia', 'constipation', 'insomnia',\n",
      "       'polydipsia', 'polyuria', 'muscle_weakness', 'headache', 'nausea',\n",
      "       'amnesia', 'gallstones', 'KIRIKVAR', 'nephrolithiasis',\n",
      "       'bone_specific_alp', 'serum_calcium_phosphorus_ratio',\n",
      "       'third_surgery_pathology_report', 'fourth_surgery_pathology_report',\n",
      "       'triglycerides', 'hdl_cholesterol', 'Unnamed: 72',\n",
      "       'encoded_comorbidities'],\n",
      "      dtype='object')\n"
     ]
    }
   ],
   "source": [
    "# List all column names in the DataFrame\n",
    "print(df.columns)\n"
   ]
  },
  {
   "cell_type": "code",
   "execution_count": 11,
   "id": "a59fd596-d767-43a6-9bd9-7632c97ea96c",
   "metadata": {},
   "outputs": [],
   "source": [
    "# Drop columns that have \"Unnamed\" in their name\n",
    "df = df.loc[:, ~df.columns.str.contains('^Unnamed')]\n"
   ]
  },
  {
   "cell_type": "code",
   "execution_count": 12,
   "id": "9813f022-ba0d-4e03-ad73-f71e3b6aa02a",
   "metadata": {},
   "outputs": [
    {
     "name": "stdout",
     "output_type": "stream",
     "text": [
      "       aphp   nhph  tertiary_hp  secondary_hp    age  gender  height  weight  \\\n",
      "0     False  False        False         False  False   False   False   False   \n",
      "1     False  False        False         False  False   False   False   False   \n",
      "2     False  False        False         False  False   False   False   False   \n",
      "3     False  False        False         False  False   False   False   False   \n",
      "4     False  False        False         False  False   False   False   False   \n",
      "...     ...    ...          ...           ...    ...     ...     ...     ...   \n",
      "1365  False  False        False         False  False   False   False   False   \n",
      "1366  False  False        False         False  False   False   False   False   \n",
      "1367  False  False        False         False  False   False   False   False   \n",
      "1368  False  False        False         False  False   False   False   False   \n",
      "1369  False  False        False         False  False   False   False   False   \n",
      "\n",
      "        bmi  marital_status  ...  gallstones  KIRIKVAR  nephrolithiasis  \\\n",
      "0     False           False  ...       False     False            False   \n",
      "1     False           False  ...       False     False            False   \n",
      "2     False           False  ...       False     False            False   \n",
      "3     False           False  ...       False     False            False   \n",
      "4     False           False  ...       False     False            False   \n",
      "...     ...             ...  ...         ...       ...              ...   \n",
      "1365  False           False  ...       False     False            False   \n",
      "1366  False           False  ...       False     False            False   \n",
      "1367  False           False  ...       False     False            False   \n",
      "1368  False           False  ...       False     False            False   \n",
      "1369  False           False  ...       False     False            False   \n",
      "\n",
      "      bone_specific_alp  serum_calcium_phosphorus_ratio  \\\n",
      "0                 False                           False   \n",
      "1                 False                           False   \n",
      "2                 False                           False   \n",
      "3                 False                           False   \n",
      "4                 False                           False   \n",
      "...                 ...                             ...   \n",
      "1365              False                           False   \n",
      "1366              False                           False   \n",
      "1367              False                           False   \n",
      "1368              False                           False   \n",
      "1369              False                           False   \n",
      "\n",
      "      third_surgery_pathology_report  fourth_surgery_pathology_report  \\\n",
      "0                              False                            False   \n",
      "1                              False                            False   \n",
      "2                              False                            False   \n",
      "3                              False                            False   \n",
      "4                              False                            False   \n",
      "...                              ...                              ...   \n",
      "1365                           False                            False   \n",
      "1366                           False                            False   \n",
      "1367                           False                            False   \n",
      "1368                           False                            False   \n",
      "1369                           False                            False   \n",
      "\n",
      "      triglycerides  hdl_cholesterol  encoded_comorbidities  \n",
      "0             False            False                  False  \n",
      "1             False            False                  False  \n",
      "2             False            False                  False  \n",
      "3             False            False                  False  \n",
      "4             False            False                  False  \n",
      "...             ...              ...                    ...  \n",
      "1365          False            False                  False  \n",
      "1366          False            False                  False  \n",
      "1367          False            False                  False  \n",
      "1368          False            False                  False  \n",
      "1369          False            False                  False  \n",
      "\n",
      "[1370 rows x 73 columns]\n"
     ]
    }
   ],
   "source": [
    "import pandas as pd\n",
    "\n",
    "# Assuming df is your DataFrame\n",
    "nan_locations = df.isna()\n",
    "\n",
    "# Print the rows and columns where NaN values are present\n",
    "print(nan_locations)\n"
   ]
  },
  {
   "cell_type": "code",
   "execution_count": 13,
   "id": "0e68c2c8-acc3-454e-aa31-27b3a7c737a2",
   "metadata": {},
   "outputs": [],
   "source": [
    "df.to_excel('2024Nov_HT_Phase3_Encoding.xlsx', index=False)\n"
   ]
  }
 ],
 "metadata": {
  "kernelspec": {
   "display_name": "Python 3 (ipykernel)",
   "language": "python",
   "name": "python3"
  },
  "language_info": {
   "codemirror_mode": {
    "name": "ipython",
    "version": 3
   },
   "file_extension": ".py",
   "mimetype": "text/x-python",
   "name": "python",
   "nbconvert_exporter": "python",
   "pygments_lexer": "ipython3",
   "version": "3.11.0"
  }
 },
 "nbformat": 4,
 "nbformat_minor": 5
}
