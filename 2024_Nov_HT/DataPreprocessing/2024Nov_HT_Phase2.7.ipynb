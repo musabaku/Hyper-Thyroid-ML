{
 "cells": [
  {
   "cell_type": "markdown",
   "id": "a871d397-43df-4001-b64f-ffbd484f3ccb",
   "metadata": {},
   "source": [
    "# Replacing 782,200 with 782.000\n"
   ]
  },
  {
   "cell_type": "code",
   "execution_count": 1,
   "id": "e7a84c39-21f5-4a3f-ac5e-4a81baf47f4f",
   "metadata": {},
   "outputs": [],
   "source": [
    "import pandas as pd\n",
    "from sklearn.cluster import KMeans\n",
    "import matplotlib.pyplot as plt\n",
    "import warnings\n",
    "\n",
    "df = pd.read_csv(\"2024Nov_HT_Phase2.7.csv\", encoding='latin-1')\n"
   ]
  },
  {
   "cell_type": "code",
   "execution_count": 2,
   "id": "0df618fe-a5a3-468c-8825-5956c483029e",
   "metadata": {},
   "outputs": [
    {
     "name": "stdout",
     "output_type": "stream",
     "text": [
      "Values from row 232 to 250 (ionized_calcium):\n",
      "   ionized_calcium\n",
      "1                1\n",
      "2                0\n",
      "3                0\n",
      "4                0\n",
      "5                0\n",
      "6           14,003\n",
      "7                0\n",
      "8                0\n",
      "9                0\n",
      "10          11,471\n",
      "11               0\n",
      "12               0\n",
      "13          13,095\n",
      "14               0\n",
      "15          13,415\n",
      "16               0\n",
      "17          12,222\n",
      "18          13,333\n",
      "19               0\n",
      "20               0\n"
     ]
    }
   ],
   "source": [
    "import pandas as pd\n",
    "\n",
    "# Assuming your DataFrame is named df\n",
    "# Check values for Triglycerides, pth, ldl_cholesterol from row 232 to 250\n",
    "print(\"Values from row 232 to 250 (ionized_calcium):\")\n",
    "print(df.loc[1:20, ['ionized_calcium']])\n",
    "\n",
    "\n"
   ]
  },
  {
   "cell_type": "code",
   "execution_count": 3,
   "id": "967020ae-bf43-4016-8fba-413a3c84fc51",
   "metadata": {},
   "outputs": [],
   "source": [
    "df = df.apply(lambda x: x.str.replace(\",\", \".\") if x.dtype == \"object\" else x)\n"
   ]
  },
  {
   "cell_type": "code",
   "execution_count": null,
   "id": "7fd0e060-0f80-408f-8713-18d703614450",
   "metadata": {},
   "outputs": [],
   "source": []
  },
  {
   "cell_type": "code",
   "execution_count": 4,
   "id": "631ebf58-623d-43d8-be45-a85c96f3967b",
   "metadata": {},
   "outputs": [
    {
     "name": "stdout",
     "output_type": "stream",
     "text": [
      "Values from row 232 to 250 (ionized_calcium):\n",
      "   ionized_calcium\n",
      "1                1\n",
      "2                0\n",
      "3                0\n",
      "4                0\n",
      "5                0\n",
      "6           14.003\n",
      "7                0\n",
      "8                0\n",
      "9                0\n",
      "10          11.471\n",
      "11               0\n",
      "12               0\n",
      "13          13.095\n",
      "14               0\n",
      "15          13.415\n",
      "16               0\n",
      "17          12.222\n",
      "18          13.333\n",
      "19               0\n",
      "20               0\n"
     ]
    }
   ],
   "source": [
    "import pandas as pd\n",
    "\n",
    "# Assuming your DataFrame is named df\n",
    "# Check values for Triglycerides, pth, ldl_cholesterol from row 232 to 250\n",
    "print(\"Values from row 232 to 250 (ionized_calcium):\")\n",
    "print(df.loc[1:20, ['ionized_calcium']])\n",
    "\n",
    "\n"
   ]
  },
  {
   "cell_type": "code",
   "execution_count": null,
   "id": "560693fb-6ff0-4def-af78-3e36602c810b",
   "metadata": {},
   "outputs": [],
   "source": []
  },
  {
   "cell_type": "code",
   "execution_count": null,
   "id": "fa03b7c4-06d0-4244-a3ec-e9c27f1462ae",
   "metadata": {},
   "outputs": [],
   "source": []
  },
  {
   "cell_type": "code",
   "execution_count": 5,
   "id": "0e68c2c8-acc3-454e-aa31-27b3a7c737a2",
   "metadata": {},
   "outputs": [],
   "source": [
    "df.to_excel('2024Nov_HT_Phase2.8.xlsx', index=False)\n"
   ]
  },
  {
   "cell_type": "code",
   "execution_count": null,
   "id": "fd5deac8-9216-428d-bbea-d1805c351b85",
   "metadata": {},
   "outputs": [],
   "source": []
  }
 ],
 "metadata": {
  "kernelspec": {
   "display_name": "Python 3 (ipykernel)",
   "language": "python",
   "name": "python3"
  },
  "language_info": {
   "codemirror_mode": {
    "name": "ipython",
    "version": 3
   },
   "file_extension": ".py",
   "mimetype": "text/x-python",
   "name": "python",
   "nbconvert_exporter": "python",
   "pygments_lexer": "ipython3",
   "version": "3.11.0"
  }
 },
 "nbformat": 4,
 "nbformat_minor": 5
}
