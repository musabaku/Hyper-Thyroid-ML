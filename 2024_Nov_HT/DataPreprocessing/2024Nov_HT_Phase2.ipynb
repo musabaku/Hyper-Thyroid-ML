{
 "cells": [
  {
   "cell_type": "markdown",
   "id": "28a02adb-ac89-497a-b786-c7dbc9e34034",
   "metadata": {},
   "source": [
    "# Dropping alp_combined_with_cl_po4 and pf_index column"
   ]
  },
  {
   "cell_type": "code",
   "execution_count": 1,
   "id": "7ab15054-c8e1-4cae-9231-a26439baed88",
   "metadata": {},
   "outputs": [],
   "source": []
  },
  {
   "cell_type": "code",
   "execution_count": 7,
   "id": "404e0c8e-a1eb-4f69-a8a9-d94be59b15f3",
   "metadata": {},
   "outputs": [],
   "source": [
    "import pandas as pd\n",
    "from sklearn.cluster import KMeans\n",
    "import matplotlib.pyplot as plt\n",
    "import warnings\n",
    "\n",
    "df = pd.read_csv(\"2024Nov_HT_FinalDatav3.csv\", encoding='latin-1')\n"
   ]
  },
  {
   "cell_type": "code",
   "execution_count": 3,
   "id": "6bb79726-f6e5-4458-b984-6a3ff329073d",
   "metadata": {},
   "outputs": [],
   "source": [
    "# Assuming your dataset is stored in a DataFrame named 'df'\n",
    "\n",
    "df = df.drop(columns=['alp_combined_with_cl_po4', 'pf_index'])\n"
   ]
  },
  {
   "cell_type": "code",
   "execution_count": 4,
   "id": "c36c33a3-a5ba-4e7e-bc7f-e2e5fc27260d",
   "metadata": {},
   "outputs": [
    {
     "name": "stdout",
     "output_type": "stream",
     "text": [
      "   aphp  nhph  secondary_hp  Frequency\n",
      "0     0     0             0        749\n",
      "1     0     1             0        239\n",
      "2     1     0             0        232\n",
      "3     0     0             1        150\n"
     ]
    }
   ],
   "source": [
    "import pandas as pd\n",
    "\n",
    "# Load the dataset\n",
    "df = pd.read_csv(\"2024Nov_HT_FinalDatav3.csv\", encoding='latin-1')\n",
    "\n",
    "# Subset the target columns\n",
    "target_columns = ['aphp', 'nhph', 'secondary_hp']\n",
    "target_data = df[target_columns]\n",
    "\n",
    "# Find unique combinations and their frequencies\n",
    "combinations = target_data.value_counts().reset_index(name='Frequency')\n",
    "\n",
    "# Sort by Frequency in descending order\n",
    "combinations = combinations.sort_values(by='Frequency', ascending=False)\n",
    "\n",
    "# Print the result\n",
    "print(combinations)\n"
   ]
  },
  {
   "cell_type": "code",
   "execution_count": 5,
   "id": "1252f804-1d75-47bf-886f-aea17516561b",
   "metadata": {},
   "outputs": [],
   "source": [
    " df.to_excel('2024Nov_HT_Phase2.xlsx', index=False)\n"
   ]
  }
 ],
 "metadata": {
  "kernelspec": {
   "display_name": "Python 3 (ipykernel)",
   "language": "python",
   "name": "python3"
  },
  "language_info": {
   "codemirror_mode": {
    "name": "ipython",
    "version": 3
   },
   "file_extension": ".py",
   "mimetype": "text/x-python",
   "name": "python",
   "nbconvert_exporter": "python",
   "pygments_lexer": "ipython3",
   "version": "3.11.0"
  }
 },
 "nbformat": 4,
 "nbformat_minor": 5
}
