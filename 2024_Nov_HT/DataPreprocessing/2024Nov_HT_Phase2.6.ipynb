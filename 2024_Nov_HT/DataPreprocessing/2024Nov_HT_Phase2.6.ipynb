{
 "cells": [
  {
   "cell_type": "markdown",
   "id": "a871d397-43df-4001-b64f-ffbd484f3ccb",
   "metadata": {},
   "source": [
    "# Replacing #### with 0 | Replacing a;b;c values with max(a,b,c) | Replacing [a] with a\n"
   ]
  },
  {
   "cell_type": "code",
   "execution_count": 1,
   "id": "e7a84c39-21f5-4a3f-ac5e-4a81baf47f4f",
   "metadata": {},
   "outputs": [],
   "source": [
    "import pandas as pd\n",
    "from sklearn.cluster import KMeans\n",
    "import matplotlib.pyplot as plt\n",
    "import warnings\n",
    "\n",
    "df = pd.read_csv(\"2024Nov_HT_Phase2.5.csv\", encoding='latin-1')\n"
   ]
  },
  {
   "cell_type": "code",
   "execution_count": 2,
   "id": "967020ae-bf43-4016-8fba-413a3c84fc51",
   "metadata": {},
   "outputs": [
    {
     "name": "stdout",
     "output_type": "stream",
     "text": [
      "Values from row 232 to 250 (Triglycerides, pth, ldl_cholesterol):\n",
      "    Triglycerides                  pth ldl_cholesterol\n",
      "232             0                    0               0\n",
      "233             0                    0               0\n",
      "234      136; 235                87.45           72;84\n",
      "235                                  0               0\n",
      "236             0                    0               0\n",
      "237            77                    0           113.7\n",
      "238            99                110.5           137.6\n",
      "239             0                    0               0\n",
      "240             0                204.9               0\n",
      "241             0                 57.9               0\n",
      "242             0                    0               0\n",
      "243           131   581.8; 17.6; 179.6             125\n",
      "244            99                    0             147\n",
      "245             0                 67.0               0\n",
      "246             0                 86.4               0\n",
      "247           167                65.98           221.7\n",
      "248           266                155.0             179\n",
      "249           150                 96.7           106.5\n",
      "250           142                 75.7           170.6\n",
      "\n",
      "Values from row 300 to 320 (ionized_calcium, ldl_cholesterol):\n",
      "        ionized_calcium ldl_cholesterol\n",
      "300            [1.3038]       [69.8000]\n",
      "301                   0       [82.7000]\n",
      "302                   0               0\n",
      "303            [1.2778]       [87.6000]\n",
      "304            [1.2983]      [197.4000]\n",
      "305            [1.3247]      [109.3000]\n",
      "306                   0       [71.2000]\n",
      "307                   0               0\n",
      "308                   0           90.00\n",
      "309                   0           85.50\n",
      "310                   0           86.30\n",
      "311            [1.2511]      [180.7000]\n",
      "312                   0               0\n",
      "313                   0               0\n",
      "314                   0               0\n",
      "315                   0               0\n",
      "316                   0               0\n",
      "317                   0               0\n",
      "318  [1.3247], [1.2778]      [138.0000]\n",
      "319                   0      [231.5000]\n",
      "320                   0               0\n"
     ]
    }
   ],
   "source": [
    "import pandas as pd\n",
    "\n",
    "# Assuming your DataFrame is named df\n",
    "# Check values for Triglycerides, pth, ldl_cholesterol from row 232 to 250\n",
    "print(\"Values from row 232 to 250 (Triglycerides, pth, ldl_cholesterol):\")\n",
    "print(df.loc[232:250, ['Triglycerides', 'pth', 'ldl_cholesterol']])\n",
    "\n",
    "# Check values for ionized_calcium and ldl_cholesterol from row 300 to 320\n",
    "print(\"\\nValues from row 300 to 320 (ionized_calcium, ldl_cholesterol):\")\n",
    "print(df.loc[300:320, ['ionized_calcium', 'ldl_cholesterol']])\n"
   ]
  },
  {
   "cell_type": "code",
   "execution_count": 3,
   "id": "7fd0e060-0f80-408f-8713-18d703614450",
   "metadata": {},
   "outputs": [
    {
     "name": "stderr",
     "output_type": "stream",
     "text": [
      "C:\\Users\\musab\\AppData\\Local\\Temp\\ipykernel_7596\\856431635.py:14: FutureWarning: DataFrame.applymap has been deprecated. Use DataFrame.map instead.\n",
      "  df = df.applymap(get_max_value)\n"
     ]
    }
   ],
   "source": [
    "df = df.replace(r\"#.*\", \"0\", regex=True)\n",
    "\n",
    "# Function to get the maximum value from cells with semicolon-separated values\n",
    "def get_max_value(cell):\n",
    "    if isinstance(cell, str) and \";\" in cell:  # Check if the value is a string and contains semicolon\n",
    "        try:\n",
    "            values = [float(val.replace(\",\", \".\")) for val in cell.split(\";\")]\n",
    "            return max(values)\n",
    "        except ValueError:\n",
    "            return cell\n",
    "    return cell  # Return the cell as is if no semicolon is present\n",
    "\n",
    "# Apply the function to the entire DataFrame\n",
    "df = df.applymap(get_max_value)\n",
    "\n"
   ]
  },
  {
   "cell_type": "code",
   "execution_count": 4,
   "id": "631ebf58-623d-43d8-be45-a85c96f3967b",
   "metadata": {},
   "outputs": [
    {
     "name": "stdout",
     "output_type": "stream",
     "text": [
      "Values from row 232 to 250 (Triglycerides, pth, ldl_cholesterol):\n",
      "    Triglycerides     pth ldl_cholesterol\n",
      "232             0       0               0\n",
      "233             0       0               0\n",
      "234         235.0   87.45            84.0\n",
      "235                     0               0\n",
      "236             0       0               0\n",
      "237            77       0           113.7\n",
      "238            99   110.5           137.6\n",
      "239             0       0               0\n",
      "240             0   204.9               0\n",
      "241             0    57.9               0\n",
      "242             0       0               0\n",
      "243           131   581.8             125\n",
      "244            99       0             147\n",
      "245             0    67.0               0\n",
      "246             0    86.4               0\n",
      "247           167   65.98           221.7\n",
      "248           266   155.0             179\n",
      "249           150    96.7           106.5\n",
      "250           142    75.7           170.6\n",
      "\n",
      "Values from row 300 to 320 (ionized_calcium, ldl_cholesterol):\n",
      "        ionized_calcium ldl_cholesterol\n",
      "300            [1.3038]       [69.8000]\n",
      "301                   0       [82.7000]\n",
      "302                   0               0\n",
      "303            [1.2778]       [87.6000]\n",
      "304            [1.2983]      [197.4000]\n",
      "305            [1.3247]      [109.3000]\n",
      "306                   0       [71.2000]\n",
      "307                   0               0\n",
      "308                   0           90.00\n",
      "309                   0           85.50\n",
      "310                   0           86.30\n",
      "311            [1.2511]      [180.7000]\n",
      "312                   0               0\n",
      "313                   0               0\n",
      "314                   0               0\n",
      "315                   0               0\n",
      "316                   0               0\n",
      "317                   0               0\n",
      "318  [1.3247], [1.2778]      [138.0000]\n",
      "319                   0      [231.5000]\n",
      "320                   0               0\n"
     ]
    }
   ],
   "source": [
    "import pandas as pd\n",
    "\n",
    "# Assuming your DataFrame is named df\n",
    "# Check values for Triglycerides, pth, ldl_cholesterol from row 232 to 250\n",
    "print(\"Values from row 232 to 250 (Triglycerides, pth, ldl_cholesterol):\")\n",
    "print(df.loc[232:250, ['Triglycerides', 'pth', 'ldl_cholesterol']])\n",
    "\n",
    "# Check values for ionized_calcium and ldl_cholesterol from row 300 to 320\n",
    "print(\"\\nValues from row 300 to 320 (ionized_calcium, ldl_cholesterol):\")\n",
    "print(df.loc[300:320, ['ionized_calcium', 'ldl_cholesterol']])\n"
   ]
  },
  {
   "cell_type": "code",
   "execution_count": 5,
   "id": "560693fb-6ff0-4def-af78-3e36602c810b",
   "metadata": {},
   "outputs": [
    {
     "name": "stderr",
     "output_type": "stream",
     "text": [
      "C:\\Users\\musab\\AppData\\Local\\Temp\\ipykernel_7596\\1649908858.py:2: FutureWarning: DataFrame.applymap has been deprecated. Use DataFrame.map instead.\n",
      "  df = df.applymap(lambda x: x.replace(\"[\", \"\").replace(\"]\", \"\") if isinstance(x, str) else x)\n"
     ]
    }
   ],
   "source": [
    "\n",
    "\n",
    "# Remove square brackets from all values in the entire DataFrame\n",
    "df = df.applymap(lambda x: x.replace(\"[\", \"\").replace(\"]\", \"\") if isinstance(x, str) else x)\n",
    "\n"
   ]
  },
  {
   "cell_type": "code",
   "execution_count": 6,
   "id": "fa03b7c4-06d0-4244-a3ec-e9c27f1462ae",
   "metadata": {},
   "outputs": [
    {
     "name": "stdout",
     "output_type": "stream",
     "text": [
      "Values from row 232 to 250 (Triglycerides, pth, ldl_cholesterol):\n",
      "    Triglycerides     pth ldl_cholesterol\n",
      "232             0       0               0\n",
      "233             0       0               0\n",
      "234         235.0   87.45            84.0\n",
      "235                     0               0\n",
      "236             0       0               0\n",
      "237            77       0           113.7\n",
      "238            99   110.5           137.6\n",
      "239             0       0               0\n",
      "240             0   204.9               0\n",
      "241             0    57.9               0\n",
      "242             0       0               0\n",
      "243           131   581.8             125\n",
      "244            99       0             147\n",
      "245             0    67.0               0\n",
      "246             0    86.4               0\n",
      "247           167   65.98           221.7\n",
      "248           266   155.0             179\n",
      "249           150    96.7           106.5\n",
      "250           142    75.7           170.6\n",
      "\n",
      "Values from row 300 to 320 (ionized_calcium, ldl_cholesterol):\n",
      "    ionized_calcium ldl_cholesterol\n",
      "300          1.3038         69.8000\n",
      "301               0         82.7000\n",
      "302               0               0\n",
      "303          1.2778         87.6000\n",
      "304          1.2983        197.4000\n",
      "305          1.3247        109.3000\n",
      "306               0         71.2000\n",
      "307               0               0\n",
      "308               0           90.00\n",
      "309               0           85.50\n",
      "310               0           86.30\n",
      "311          1.2511        180.7000\n",
      "312               0               0\n",
      "313               0               0\n",
      "314               0               0\n",
      "315               0               0\n",
      "316               0               0\n",
      "317               0               0\n",
      "318  1.3247, 1.2778        138.0000\n",
      "319               0        231.5000\n",
      "320               0               0\n"
     ]
    }
   ],
   "source": [
    "import pandas as pd\n",
    "\n",
    "# Assuming your DataFrame is named df\n",
    "# Check values for Triglycerides, pth, ldl_cholesterol from row 232 to 250\n",
    "print(\"Values from row 232 to 250 (Triglycerides, pth, ldl_cholesterol):\")\n",
    "print(df.loc[232:250, ['Triglycerides', 'pth', 'ldl_cholesterol']])\n",
    "\n",
    "# Check values for ionized_calcium and ldl_cholesterol from row 300 to 320\n",
    "print(\"\\nValues from row 300 to 320 (ionized_calcium, ldl_cholesterol):\")\n",
    "print(df.loc[300:320, ['ionized_calcium', 'ldl_cholesterol']])\n"
   ]
  },
  {
   "cell_type": "code",
   "execution_count": 7,
   "id": "0e68c2c8-acc3-454e-aa31-27b3a7c737a2",
   "metadata": {},
   "outputs": [],
   "source": [
    "df.to_excel('2024Nov_HT_Phase2.6.xlsx', index=False)\n"
   ]
  },
  {
   "cell_type": "code",
   "execution_count": null,
   "id": "fd5deac8-9216-428d-bbea-d1805c351b85",
   "metadata": {},
   "outputs": [],
   "source": []
  }
 ],
 "metadata": {
  "kernelspec": {
   "display_name": "Python 3 (ipykernel)",
   "language": "python",
   "name": "python3"
  },
  "language_info": {
   "codemirror_mode": {
    "name": "ipython",
    "version": 3
   },
   "file_extension": ".py",
   "mimetype": "text/x-python",
   "name": "python",
   "nbconvert_exporter": "python",
   "pygments_lexer": "ipython3",
   "version": "3.11.0"
  }
 },
 "nbformat": 4,
 "nbformat_minor": 5
}
