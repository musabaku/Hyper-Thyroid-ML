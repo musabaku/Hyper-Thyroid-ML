{
 "cells": [
  {
   "cell_type": "code",
   "execution_count": 1,
   "id": "b91bc1f5-5699-4ab8-bcb6-4b7f2d659a8a",
   "metadata": {},
   "outputs": [],
   "source": [
    "import pandas as pd\n",
    "from sklearn.cluster import KMeans\n",
    "import matplotlib.pyplot as plt\n",
    "import warnings\n",
    "import numpy as np\n",
    "\n",
    "df = pd.read_csv(\"paratiroid son_revised (1).csv\", encoding='latin-1')"
   ]
  },
  {
   "cell_type": "code",
   "execution_count": 2,
   "id": "c5c183cc-4d0b-4dac-9721-0c73aae3fffb",
   "metadata": {},
   "outputs": [],
   "source": [
    "df['alp'] = df['alp'].replace('', np.nan)\n",
    "import numpy as np\n",
    "\n",
    "# Replace empty strings and cells with only spaces or other invisible characters with NaN\n",
    "df['alp'] = df['alp'].replace(r'^\\s*$', np.nan, regex=True)\n"
   ]
  },
  {
   "cell_type": "code",
   "execution_count": 3,
   "id": "c4d52d02-1def-49a4-9757-a3be5d6228c4",
   "metadata": {},
   "outputs": [],
   "source": [
    "\n",
    "df['Alp_new'] = df['alp'].fillna(df['ALP'])\n"
   ]
  },
  {
   "cell_type": "code",
   "execution_count": 4,
   "id": "a69cdcce-64dd-481c-88ed-13a72be4a2df",
   "metadata": {},
   "outputs": [
    {
     "data": {
      "text/plain": [
       "0     NaN\n",
       "1      45\n",
       "2     NaN\n",
       "3     NaN\n",
       "4      56\n",
       "5      63\n",
       "6     NaN\n",
       "7     NaN\n",
       "8     103\n",
       "9     117\n",
       "10     86\n",
       "11    NaN\n",
       "12    NaN\n",
       "13     40\n",
       "14     92\n",
       "15    NaN\n",
       "16    NaN\n",
       "17    NaN\n",
       "18    NaN\n",
       "19    NaN\n",
       "20    NaN\n",
       "21    NaN\n",
       "22    NaN\n",
       "23    NaN\n",
       "24    NaN\n",
       "25    NaN\n",
       "26    NaN\n",
       "27    NaN\n",
       "28    NaN\n",
       "29    NaN\n",
       "30    NaN\n",
       "31    NaN\n",
       "32    NaN\n",
       "33    NaN\n",
       "34    NaN\n",
       "35    NaN\n",
       "36    NaN\n",
       "37    NaN\n",
       "38    NaN\n",
       "39    NaN\n",
       "40    NaN\n",
       "41    NaN\n",
       "42    NaN\n",
       "43    NaN\n",
       "44    NaN\n",
       "45    NaN\n",
       "46    NaN\n",
       "47    NaN\n",
       "48    NaN\n",
       "49    NaN\n",
       "Name: alp, dtype: object"
      ]
     },
     "execution_count": 4,
     "metadata": {},
     "output_type": "execute_result"
    }
   ],
   "source": [
    "df['alp'].head(50)"
   ]
  },
  {
   "cell_type": "code",
   "execution_count": 5,
   "id": "39697fac-aea5-44cb-8965-d654815efd1b",
   "metadata": {},
   "outputs": [
    {
     "data": {
      "text/plain": [
       "0     NaN\n",
       "1     NaN\n",
       "2     NaN\n",
       "3     NaN\n",
       "4     NaN\n",
       "5     NaN\n",
       "6     NaN\n",
       "7     NaN\n",
       "8     103\n",
       "9     117\n",
       "10     86\n",
       "11    NaN\n",
       "12    NaN\n",
       "13     40\n",
       "14     92\n",
       "15    NaN\n",
       "16    NaN\n",
       "17    NaN\n",
       "18    NaN\n",
       "19     74\n",
       "20     63\n",
       "21    NaN\n",
       "22    NaN\n",
       "23     59\n",
       "24    122\n",
       "25     66\n",
       "26     87\n",
       "27     80\n",
       "28     43\n",
       "29     55\n",
       "30    NaN\n",
       "31    NaN\n",
       "32    NaN\n",
       "33     49\n",
       "34     53\n",
       "35     52\n",
       "36     50\n",
       "37     72\n",
       "38     74\n",
       "39    122\n",
       "40    112\n",
       "41     48\n",
       "42    NaN\n",
       "43     68\n",
       "44    NaN\n",
       "45     38\n",
       "46     89\n",
       "47     44\n",
       "48    NaN\n",
       "49     97\n",
       "Name: ALP, dtype: object"
      ]
     },
     "execution_count": 5,
     "metadata": {},
     "output_type": "execute_result"
    }
   ],
   "source": [
    "df['ALP'].head(50)"
   ]
  },
  {
   "cell_type": "code",
   "execution_count": 6,
   "id": "5c9bbb33-0076-4804-8c88-c05d48f099f5",
   "metadata": {},
   "outputs": [
    {
     "data": {
      "text/plain": [
       "0     NaN\n",
       "1      45\n",
       "2     NaN\n",
       "3     NaN\n",
       "4      56\n",
       "5      63\n",
       "6     NaN\n",
       "7     NaN\n",
       "8     103\n",
       "9     117\n",
       "10     86\n",
       "11    NaN\n",
       "12    NaN\n",
       "13     40\n",
       "14     92\n",
       "15    NaN\n",
       "16    NaN\n",
       "17    NaN\n",
       "18    NaN\n",
       "19     74\n",
       "20     63\n",
       "21    NaN\n",
       "22    NaN\n",
       "23     59\n",
       "24    122\n",
       "25     66\n",
       "26     87\n",
       "27     80\n",
       "28     43\n",
       "29     55\n",
       "30    NaN\n",
       "31    NaN\n",
       "32    NaN\n",
       "33     49\n",
       "34     53\n",
       "35     52\n",
       "36     50\n",
       "37     72\n",
       "38     74\n",
       "39    122\n",
       "40    112\n",
       "41     48\n",
       "42    NaN\n",
       "43     68\n",
       "44    NaN\n",
       "45     38\n",
       "46     89\n",
       "47     44\n",
       "48    NaN\n",
       "49     97\n",
       "Name: Alp_new, dtype: object"
      ]
     },
     "execution_count": 6,
     "metadata": {},
     "output_type": "execute_result"
    }
   ],
   "source": [
    "df['Alp_new'].head(50)"
   ]
  }
 ],
 "metadata": {
  "kernelspec": {
   "display_name": "Python 3 (ipykernel)",
   "language": "python",
   "name": "python3"
  },
  "language_info": {
   "codemirror_mode": {
    "name": "ipython",
    "version": 3
   },
   "file_extension": ".py",
   "mimetype": "text/x-python",
   "name": "python",
   "nbconvert_exporter": "python",
   "pygments_lexer": "ipython3",
   "version": "3.12.0"
  }
 },
 "nbformat": 4,
 "nbformat_minor": 5
}
