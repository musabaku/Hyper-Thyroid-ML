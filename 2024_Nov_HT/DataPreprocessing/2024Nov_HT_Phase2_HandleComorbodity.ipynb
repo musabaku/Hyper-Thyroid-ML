{
 "cells": [
  {
   "cell_type": "markdown",
   "id": "a871d397-43df-4001-b64f-ffbd484f3ccb",
   "metadata": {},
   "source": [
    "# Handling comorobodity"
   ]
  },
  {
   "cell_type": "code",
   "execution_count": 1,
   "id": "e7a84c39-21f5-4a3f-ac5e-4a81baf47f4f",
   "metadata": {},
   "outputs": [],
   "source": [
    "import pandas as pd\n",
    "from sklearn.cluster import KMeans\n",
    "import matplotlib.pyplot as plt\n",
    "import warnings\n",
    "\n",
    "df = pd.read_csv(\"2024Nov_HT_comorbodity_1.csv\", encoding='latin-1')\n"
   ]
  },
  {
   "cell_type": "code",
   "execution_count": null,
   "id": "7e2a66b5-6fe1-400b-b9c2-223cb8439e5b",
   "metadata": {},
   "outputs": [],
   "source": []
  },
  {
   "cell_type": "code",
   "execution_count": 2,
   "id": "0df618fe-a5a3-468c-8825-5956c483029e",
   "metadata": {},
   "outputs": [],
   "source": [
    "\n",
    "# List of diseases to keep (case-insensitive)\n",
    "disease_keywords = [\"osteoporoz\", \"mal?gn\", \"böbrek\",\"malign\"]\n",
    "\n",
    "# Function to filter and update the comorbidity column\n",
    "def update_comorbidity(value):\n",
    "    # Convert the value to lowercase for case-insensitive comparison\n",
    "    value_lower = str(value).lower()  # Ensure value is a string\n",
    "    # Check if any of the disease keywords are in the value\n",
    "    if any(disease.lower() in value_lower for disease in disease_keywords):\n",
    "        return value\n",
    "    else:\n",
    "        return 0\n",
    "\n",
    "# Apply the function to the 'comorbidity' column\n",
    "df['comorbidity'] = df['comorbidity'].apply(update_comorbidity)\n",
    "\n",
    "\n",
    "\n",
    "\n"
   ]
  },
  {
   "cell_type": "code",
   "execution_count": null,
   "id": "967020ae-bf43-4016-8fba-413a3c84fc51",
   "metadata": {},
   "outputs": [],
   "source": []
  },
  {
   "cell_type": "code",
   "execution_count": 3,
   "id": "0e68c2c8-acc3-454e-aa31-27b3a7c737a2",
   "metadata": {},
   "outputs": [],
   "source": [
    "df.to_excel('2024Nov_HT_Phase2.11.xlsx', index=False)\n"
   ]
  }
 ],
 "metadata": {
  "kernelspec": {
   "display_name": "Python 3 (ipykernel)",
   "language": "python",
   "name": "python3"
  },
  "language_info": {
   "codemirror_mode": {
    "name": "ipython",
    "version": 3
   },
   "file_extension": ".py",
   "mimetype": "text/x-python",
   "name": "python",
   "nbconvert_exporter": "python",
   "pygments_lexer": "ipython3",
   "version": "3.11.0"
  }
 },
 "nbformat": 4,
 "nbformat_minor": 5
}
