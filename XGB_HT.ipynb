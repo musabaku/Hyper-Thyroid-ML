{
 "cells": [
  {
   "cell_type": "code",
   "execution_count": 1,
   "id": "d5e77771-f574-4802-82a1-e606f340cee1",
   "metadata": {},
   "outputs": [],
   "source": [
    "import pandas as pd\n",
    "import numpy as np\n",
    "\n",
    "import warnings\n",
    "# Code was showing some warnings, from stack overflow optimal answer was to include this\n",
    "warnings.simplefilter(action='ignore', category=FutureWarning)"
   ]
  },
  {
   "cell_type": "code",
   "execution_count": 2,
   "id": "40d1d82d-30de-41f1-aeaf-674d46874333",
   "metadata": {},
   "outputs": [],
   "source": [
    "df = pd.read_csv(\"hyperthyroidism3_FinalDataSet_April.csv\", encoding='latin-1')\n",
    "df.dropna(inplace=True)\n"
   ]
  },
  {
   "cell_type": "code",
   "execution_count": 3,
   "id": "5bd0b90b-2388-4198-8c38-1cfc712549ed",
   "metadata": {},
   "outputs": [
    {
     "data": {
      "text/html": [
       "<div>\n",
       "<style scoped>\n",
       "    .dataframe tbody tr th:only-of-type {\n",
       "        vertical-align: middle;\n",
       "    }\n",
       "\n",
       "    .dataframe tbody tr th {\n",
       "        vertical-align: top;\n",
       "    }\n",
       "\n",
       "    .dataframe thead th {\n",
       "        text-align: right;\n",
       "    }\n",
       "</style>\n",
       "<table border=\"1\" class=\"dataframe\">\n",
       "  <thead>\n",
       "    <tr style=\"text-align: right;\">\n",
       "      <th></th>\n",
       "      <th>aphp</th>\n",
       "      <th>nhph</th>\n",
       "      <th>tertiary_hp</th>\n",
       "      <th>secondary_hp</th>\n",
       "      <th>age</th>\n",
       "      <th>gender</th>\n",
       "      <th>height</th>\n",
       "      <th>weight</th>\n",
       "      <th>bmi</th>\n",
       "      <th>marital_status</th>\n",
       "      <th>...</th>\n",
       "      <th>nephrolithiasis</th>\n",
       "      <th>bone_specific_alp</th>\n",
       "      <th>corrected_calcium_by_albumin</th>\n",
       "      <th>serum_calcium_phosphorus_ratio</th>\n",
       "      <th>pf_index</th>\n",
       "      <th>alp_combined_with_cl_po4</th>\n",
       "      <th>third_surgery_pathology_report</th>\n",
       "      <th>fourth_surgery_pathology_report</th>\n",
       "      <th>triglycerides</th>\n",
       "      <th>hdl_cholesterol</th>\n",
       "    </tr>\n",
       "  </thead>\n",
       "  <tbody>\n",
       "    <tr>\n",
       "      <th>0</th>\n",
       "      <td>0</td>\n",
       "      <td>0</td>\n",
       "      <td>0</td>\n",
       "      <td>0</td>\n",
       "      <td>0</td>\n",
       "      <td>-1</td>\n",
       "      <td>0</td>\n",
       "      <td>0</td>\n",
       "      <td>0.0</td>\n",
       "      <td>0</td>\n",
       "      <td>...</td>\n",
       "      <td>-1</td>\n",
       "      <td>0.0</td>\n",
       "      <td>0.0</td>\n",
       "      <td>0.0</td>\n",
       "      <td>0.0</td>\n",
       "      <td>0.0</td>\n",
       "      <td>0</td>\n",
       "      <td>0</td>\n",
       "      <td>0</td>\n",
       "      <td>0</td>\n",
       "    </tr>\n",
       "    <tr>\n",
       "      <th>1</th>\n",
       "      <td>0</td>\n",
       "      <td>0</td>\n",
       "      <td>0</td>\n",
       "      <td>0</td>\n",
       "      <td>60</td>\n",
       "      <td>1</td>\n",
       "      <td>0</td>\n",
       "      <td>0</td>\n",
       "      <td>0.0</td>\n",
       "      <td>1</td>\n",
       "      <td>...</td>\n",
       "      <td>0</td>\n",
       "      <td>0.0</td>\n",
       "      <td>11.2</td>\n",
       "      <td>2.8</td>\n",
       "      <td>147.0</td>\n",
       "      <td>0.0</td>\n",
       "      <td>0</td>\n",
       "      <td>0</td>\n",
       "      <td>0</td>\n",
       "      <td>0</td>\n",
       "    </tr>\n",
       "    <tr>\n",
       "      <th>2</th>\n",
       "      <td>0</td>\n",
       "      <td>0</td>\n",
       "      <td>0</td>\n",
       "      <td>0</td>\n",
       "      <td>0</td>\n",
       "      <td>-1</td>\n",
       "      <td>0</td>\n",
       "      <td>0</td>\n",
       "      <td>0.0</td>\n",
       "      <td>0</td>\n",
       "      <td>...</td>\n",
       "      <td>-1</td>\n",
       "      <td>0.0</td>\n",
       "      <td>0.0</td>\n",
       "      <td>0.0</td>\n",
       "      <td>0.0</td>\n",
       "      <td>0.0</td>\n",
       "      <td>0</td>\n",
       "      <td>0</td>\n",
       "      <td>0</td>\n",
       "      <td>0</td>\n",
       "    </tr>\n",
       "    <tr>\n",
       "      <th>3</th>\n",
       "      <td>0</td>\n",
       "      <td>0</td>\n",
       "      <td>0</td>\n",
       "      <td>0</td>\n",
       "      <td>0</td>\n",
       "      <td>-1</td>\n",
       "      <td>0</td>\n",
       "      <td>0</td>\n",
       "      <td>0.0</td>\n",
       "      <td>0</td>\n",
       "      <td>...</td>\n",
       "      <td>-1</td>\n",
       "      <td>0.0</td>\n",
       "      <td>0.0</td>\n",
       "      <td>0.0</td>\n",
       "      <td>0.0</td>\n",
       "      <td>0.0</td>\n",
       "      <td>0</td>\n",
       "      <td>0</td>\n",
       "      <td>0</td>\n",
       "      <td>0</td>\n",
       "    </tr>\n",
       "    <tr>\n",
       "      <th>4</th>\n",
       "      <td>1</td>\n",
       "      <td>0</td>\n",
       "      <td>0</td>\n",
       "      <td>0</td>\n",
       "      <td>55</td>\n",
       "      <td>1</td>\n",
       "      <td>170</td>\n",
       "      <td>73</td>\n",
       "      <td>0.0</td>\n",
       "      <td>1</td>\n",
       "      <td>...</td>\n",
       "      <td>0</td>\n",
       "      <td>0.0</td>\n",
       "      <td>12.1</td>\n",
       "      <td>4.4</td>\n",
       "      <td>413.0</td>\n",
       "      <td>0.0</td>\n",
       "      <td>0</td>\n",
       "      <td>0</td>\n",
       "      <td>0</td>\n",
       "      <td>0</td>\n",
       "    </tr>\n",
       "  </tbody>\n",
       "</table>\n",
       "<p>5 rows × 71 columns</p>\n",
       "</div>"
      ],
      "text/plain": [
       "   aphp  nhph  tertiary_hp  secondary_hp  age  gender  height  weight  bmi  \\\n",
       "0     0     0            0             0    0      -1       0       0  0.0   \n",
       "1     0     0            0             0   60       1       0       0  0.0   \n",
       "2     0     0            0             0    0      -1       0       0  0.0   \n",
       "3     0     0            0             0    0      -1       0       0  0.0   \n",
       "4     1     0            0             0   55       1     170      73  0.0   \n",
       "\n",
       "   marital_status  ...  nephrolithiasis  bone_specific_alp  \\\n",
       "0               0  ...               -1                0.0   \n",
       "1               1  ...                0                0.0   \n",
       "2               0  ...               -1                0.0   \n",
       "3               0  ...               -1                0.0   \n",
       "4               1  ...                0                0.0   \n",
       "\n",
       "   corrected_calcium_by_albumin  serum_calcium_phosphorus_ratio  pf_index  \\\n",
       "0                           0.0                             0.0       0.0   \n",
       "1                          11.2                             2.8     147.0   \n",
       "2                           0.0                             0.0       0.0   \n",
       "3                           0.0                             0.0       0.0   \n",
       "4                          12.1                             4.4     413.0   \n",
       "\n",
       "   alp_combined_with_cl_po4  third_surgery_pathology_report  \\\n",
       "0                       0.0                               0   \n",
       "1                       0.0                               0   \n",
       "2                       0.0                               0   \n",
       "3                       0.0                               0   \n",
       "4                       0.0                               0   \n",
       "\n",
       "   fourth_surgery_pathology_report  triglycerides  hdl_cholesterol  \n",
       "0                                0              0                0  \n",
       "1                                0              0                0  \n",
       "2                                0              0                0  \n",
       "3                                0              0                0  \n",
       "4                                0              0                0  \n",
       "\n",
       "[5 rows x 71 columns]"
      ]
     },
     "execution_count": 3,
     "metadata": {},
     "output_type": "execute_result"
    }
   ],
   "source": [
    "df.head()"
   ]
  },
  {
   "cell_type": "code",
   "execution_count": 4,
   "id": "3112da92-e0d1-452f-876a-74609ceddafe",
   "metadata": {},
   "outputs": [],
   "source": [
    "X = df.iloc[:, 1:].values\n",
    "y = df.iloc[:, 0].values  \n"
   ]
  },
  {
   "cell_type": "markdown",
   "id": "4dc31cf4-ee6c-42e7-a3a0-2f5e89810ef8",
   "metadata": {},
   "source": [
    "## Splitting & Using XGB\n"
   ]
  },
  {
   "cell_type": "code",
   "execution_count": 5,
   "id": "cc99c410-f12b-4f97-9fd0-a2080c2a2403",
   "metadata": {},
   "outputs": [
    {
     "name": "stdout",
     "output_type": "stream",
     "text": [
      "Training time: 0.07963132858276367 seconds\n"
     ]
    }
   ],
   "source": [
    "from sklearn.model_selection import train_test_split\n",
    "import xgboost as xgb\n",
    "from sklearn.preprocessing import LabelEncoder\n",
    "import time\n",
    "\n",
    "X_train, X_test, y_train, y_test = train_test_split(X, y, test_size=0.2, random_state=42)\n",
    "\n",
    "le = LabelEncoder()\n",
    "y_train_encoded = le.fit_transform(y_train)\n",
    "\n",
    "xgb_classifier = xgb.XGBClassifier()\n",
    "\n",
    "start_time = time.time()\n",
    "xgb_classifier.fit(X_train, y_train_encoded)\n",
    "end_time = time.time()\n",
    "training_time = end_time - start_time\n",
    "\n",
    "print(f\"Training time: {training_time} seconds\")\n",
    "\n",
    "y_pred_encoded = xgb_classifier.predict(X_test)\n",
    "\n",
    "y_pred = le.inverse_transform(y_pred_encoded)\n"
   ]
  },
  {
   "cell_type": "markdown",
   "id": "012b148b-7ca2-4bb0-b22f-1f53355e7ce2",
   "metadata": {},
   "source": [
    "## Using Evaluation Metrics"
   ]
  },
  {
   "cell_type": "code",
   "execution_count": 6,
   "id": "81428c1d-74c7-4f66-a399-6d7e73d2e250",
   "metadata": {},
   "outputs": [
    {
     "name": "stdout",
     "output_type": "stream",
     "text": [
      "Accuracy =  94.66666666666667 %\n",
      "Precision =  0.9474548440065681\n",
      "Recall =  0.9438914027149321\n",
      "F1-score =  0.9454941860465116\n"
     ]
    },
    {
     "data": {
      "image/png": "[encoded data removed]",
      "text/plain": [
       "<Figure size 640x480 with 2 Axes>"
      ]
     },
     "metadata": {},
     "output_type": "display_data"
    },
    {
     "name": "stdout",
     "output_type": "stream",
     "text": [
      "Classification Report\n",
      "              precision    recall  f1-score   support\n",
      "\n",
      "           0       0.95      0.92      0.94        65\n",
      "           1       0.94      0.96      0.95        85\n",
      "\n",
      "    accuracy                           0.95       150\n",
      "   macro avg       0.95      0.94      0.95       150\n",
      "weighted avg       0.95      0.95      0.95       150\n",
      "\n"
     ]
    }
   ],
   "source": [
    "from sklearn.metrics import accuracy_score, precision_score, recall_score, f1_score,ConfusionMatrixDisplay, confusion_matrix, roc_curve, auc\n",
    "import matplotlib.pyplot as plt\n",
    "from sklearn.model_selection import learning_curve\n",
    "from sklearn.feature_selection import SelectKBest\n",
    "from sklearn.feature_selection import chi2\n",
    "\n",
    "# Calculating using average macro\n",
    "print(\"Accuracy = \", accuracy_score(y_test, y_pred) * 100, \"%\")\n",
    "print(\"Precision = \", precision_score(y_test, y_pred,average='macro'))\n",
    "print(\"Recall = \", recall_score(y_test, y_pred,average='macro'))\n",
    "print(\"F1-score = \", f1_score(y_test, y_pred,average='macro'))\n",
    "disp = ConfusionMatrixDisplay(confusion_matrix(y_test, y_pred), display_labels=np.unique(y))\n",
    "disp.plot()\n",
    "plt.title('Confusion Matrix for XGB')\n",
    "plt.show()\n",
    "\n",
    "print(\"Classification Report\")\n",
    "from sklearn.metrics import classification_report\n",
    "print(classification_report(y_test, y_pred))"
   ]
  },
  {
   "cell_type": "code",
   "execution_count": 7,
   "id": "ea2cfdf4-5875-45ee-b9f3-4dc785756693",
   "metadata": {},
   "outputs": [
    {
     "data": {
      "image/png": "[encoded data removed]",
      "text/plain": [
       "<Figure size 640x480 with 1 Axes>"
      ]
     },
     "metadata": {},
     "output_type": "display_data"
    }
   ],
   "source": [
    "train_sizes, train_scores, test_scores = learning_curve(xgb_classifier, X, y, cv=5, train_sizes=np.linspace(0.1, 1.0, 10))\n",
    "\n",
    "plt.figure()\n",
    "plt.plot(train_sizes, np.mean(train_scores, axis=1), 'o-', label=\"Training score\")\n",
    "plt.plot(train_sizes, np.mean(test_scores, axis=1), 'o-', label=\"Cross-validation score\")\n",
    "plt.xlabel(\"Training examples\")\n",
    "plt.ylabel(\"Score\")\n",
    "plt.title(\"Learning Curve\")\n",
    "plt.legend(loc=\"best\")\n",
    "plt.show()"
   ]
  }
 ],
 "metadata": {
  "kernelspec": {
   "display_name": "Python 3 (ipykernel)",
   "language": "python",
   "name": "python3"
  },
  "language_info": {
   "codemirror_mode": {
    "name": "ipython",
    "version": 3
   },
   "file_extension": ".py",
   "mimetype": "text/x-python",
   "name": "python",
   "nbconvert_exporter": "python",
   "pygments_lexer": "ipython3",
   "version": "3.11.0"
  }
 },
 "nbformat": 4,
 "nbformat_minor": 5
}
